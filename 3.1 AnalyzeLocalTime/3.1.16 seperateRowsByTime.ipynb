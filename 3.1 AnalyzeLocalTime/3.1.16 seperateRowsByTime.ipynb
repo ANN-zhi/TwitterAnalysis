{
 "cells": [
  {
   "cell_type": "markdown",
   "id": "717b4604",
   "metadata": {},
   "source": [
    "## Delete Rows(specific value in specific column)"
   ]
  },
  {
   "cell_type": "code",
   "execution_count": 14,
   "id": "8e6c14a0",
   "metadata": {},
   "outputs": [],
   "source": [
    "#csv add local_time column\n",
    "import pandas as pd\n",
    "\n",
    "df = pd.read_csv(r\"/Users/kuratome/Downloads/3/GroceryTweets_2019_2021_year.csv\",low_memory=False)"
   ]
  },
  {
   "cell_type": "code",
   "execution_count": 15,
   "id": "74a1c7b1",
   "metadata": {},
   "outputs": [],
   "source": [
    "#working\n",
    "import datetime\n",
    "import numpy as np\n",
    "\n",
    "df['local_time'] = pd.to_datetime(df['local_time'])"
   ]
  },
  {
   "cell_type": "code",
   "execution_count": 16,
   "id": "a1f05ecf-495b-4be4-9f08-4158d5a1cbee",
   "metadata": {},
   "outputs": [],
   "source": [
    "i=0\n",
    "new_rows_1=[]\n",
    "date1= np.datetime64(datetime.datetime(2021,1,20))\n",
    "date2= np.datetime64(datetime.datetime(2022,1,20))\n",
    "\n",
    "for i,row in df.iterrows():    \n",
    "    if ((df['local_time'][i]) < date2) & ((df['local_time'][i]) > date1):\n",
    "        \n",
    "        #print(i)\n",
    "\n",
    "        new_rows_1.append(row.values)\n",
    "\n",
    "df1 = pd.DataFrame(new_rows_1, columns=df.columns)\n",
    "df1.to_csv(r\"/Users/kuratome/Downloads/4/GroceryTweets_2021.csv\",encoding=\"utf_8_sig\",index=False)"
   ]
  },
  {
   "cell_type": "code",
   "execution_count": 13,
   "id": "16b377a9",
   "metadata": {},
   "outputs": [],
   "source": [
    "i=0\n",
    "new_rows_1=[]\n",
    "date1= np.datetime64(datetime.datetime(2020,1,20))\n",
    "date2= np.datetime64(datetime.datetime(2021,1,20))\n",
    "\n",
    "for i,row in df.iterrows():    \n",
    "    if ((df['local_time'][i]) < date2) & ((df['local_time'][i]) > date1):\n",
    "        \n",
    "        #print(i)\n",
    "\n",
    "        new_rows_1.append(row.values)\n",
    "\n",
    "df1 = pd.DataFrame(new_rows_1, columns=df.columns)\n",
    "df1.to_csv(r\"/Users/kuratome/Downloads/4/GroceryTweets_2020.csv\",encoding=\"utf_8_sig\",index=False)"
   ]
  },
  {
   "cell_type": "code",
   "execution_count": null,
   "id": "158ce793",
   "metadata": {},
   "outputs": [],
   "source": [
    "#working\n",
    "import datetime\n",
    "import numpy as np\n",
    "\n",
    "df['local_time'] = pd.to_datetime(df['local_time'])\n",
    "\n",
    "new_rows_1=[]\n",
    "new_rows_2=[]\n",
    "new_rows_3=[]"
   ]
  },
  {
   "cell_type": "code",
   "execution_count": null,
   "id": "3c82bd49",
   "metadata": {},
   "outputs": [],
   "source": [
    "i=0\n",
    "date1= np.datetime64(datetime.datetime(2020, 1, 20))\n",
    "date2= np.datetime64(datetime.datetime(2021, 1, 20))\n",
    "\n",
    "for i,row in df.iterrows():    \n",
    "    if df['local_time'][i] < date1:\n",
    "        new_rows_1.append(row.values)\n",
    "        print(i)\n",
    "    elif df['local_time'][i] < date2:\n",
    "        #df2.append(row)\n",
    "        new_rows_2.append(row.values)\n",
    "    else:\n",
    "        new_rows_3.append(row.values)\n",
    "        #print(\"3\",df['local_time'][i])\n",
    "    "
   ]
  },
  {
   "cell_type": "code",
   "execution_count": null,
   "id": "56431fa2",
   "metadata": {},
   "outputs": [],
   "source": [
    "df2 = pd.DataFrame(new_rows_2, columns=df.columns)\n",
    "df3 = pd.DataFrame(new_rows_3, columns=df.columns)"
   ]
  },
  {
   "cell_type": "code",
   "execution_count": 21,
   "id": "603dc112",
   "metadata": {},
   "outputs": [],
   "source": [
    "df1 = pd.DataFrame(new_rows_1, columns=df.columns)\n",
    "df1.to_csv(r\"June.csv\",encoding=\"utf_8_sig\",index=False)"
   ]
  },
  {
   "cell_type": "code",
   "execution_count": null,
   "id": "42e2dad0",
   "metadata": {},
   "outputs": [],
   "source": [
    "df2.to_csv(r\"E:\\OneDrive - University of Georgia\\Project\\Data\\tweet_data_3_groccery\\4.2 LocalTime 1CSV - Copy\\grocerry_2020.csv\",encoding=\"utf_8_sig\",index=False)"
   ]
  },
  {
   "cell_type": "code",
   "execution_count": null,
   "id": "db9ee2ba",
   "metadata": {},
   "outputs": [],
   "source": [
    "df3.to_csv(r\"E:\\OneDrive - University of Georgia\\Project\\Data\\tweet_data_3_groccery\\4.2 LocalTime 1CSV - Copy\\grocerry_2021.csv\",encoding=\"utf_8_sig\",index=False)"
   ]
  }
 ],
 "metadata": {
  "kernelspec": {
   "display_name": "Python 3 (ipykernel)",
   "language": "python",
   "name": "python3"
  },
  "language_info": {
   "codemirror_mode": {
    "name": "ipython",
    "version": 3
   },
   "file_extension": ".py",
   "mimetype": "text/x-python",
   "name": "python",
   "nbconvert_exporter": "python",
   "pygments_lexer": "ipython3",
   "version": "3.9.7"
  }
 },
 "nbformat": 4,
 "nbformat_minor": 5
}
