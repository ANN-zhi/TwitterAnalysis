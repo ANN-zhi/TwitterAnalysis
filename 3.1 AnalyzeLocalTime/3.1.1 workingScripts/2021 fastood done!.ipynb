{
 "cells": [
  {
   "cell_type": "markdown",
   "id": "e181f86d",
   "metadata": {},
   "source": [
    "# \"iso 1861 UTC\" \"lon\" \"lat\"  transfer to local time"
   ]
  },
  {
   "cell_type": "code",
   "execution_count": null,
   "id": "49abd5d6",
   "metadata": {},
   "outputs": [],
   "source": []
  },
  {
   "cell_type": "markdown",
   "id": "717b4604",
   "metadata": {},
   "source": [
    "## Method 1. Bing Map API"
   ]
  },
  {
   "cell_type": "markdown",
   "id": "ef404034",
   "metadata": {},
   "source": [
    "use bing map API https://docs.microsoft.com/en-us/bingmaps/rest-services/timezone/convert-local-time-zone"
   ]
  },
  {
   "cell_type": "code",
   "execution_count": 1,
   "id": "7557ff62",
   "metadata": {},
   "outputs": [],
   "source": [
    "import datetime\n",
    "import json\n",
    "import os\n",
    "import requests\n",
    "import pandas as pd"
   ]
  },
  {
   "cell_type": "code",
   "execution_count": 35,
   "id": "c694d150",
   "metadata": {},
   "outputs": [
    {
     "name": "stdout",
     "output_type": "stream",
     "text": [
      "AgqZuOWRi8tI49EjupikYJm-yg-KlKXzWu3XNTuENeJopKOrQhczF3sL7b8TBC2S\n"
     ]
    }
   ],
   "source": [
    "# Using Bing Maps API\n",
    "BING_MAPS_KEY =\"AgqZuOWRi8tI49EjupikYJm-yg-KlKXzWu3XNTuENeJopKOrQhczF3sL7b8TBC2S\"\n",
    "print(BING_MAPS_KEY )"
   ]
  },
  {
   "cell_type": "code",
   "execution_count": 3,
   "id": "299d88c2",
   "metadata": {},
   "outputs": [],
   "source": [
    "#working\n",
    "def get_time_zone(lon,lat,isotime_utc):\n",
    "    try: \n",
    "        r = requests.get(\n",
    "        f\"https://dev.virtualearth.net/REST/v1/TimeZone/{lat},{lon}?datetime={isotime_utc}&key={BING_MAPS_KEY}\")\n",
    "    \n",
    "        return r.json()['resourceSets'][0]['resources'][0]['timeZone']['convertedTime']['localTime']\n",
    "    except:\n",
    "        return \"NA\""
   ]
  },
  {
   "cell_type": "code",
   "execution_count": 28,
   "id": "8026c0ab",
   "metadata": {},
   "outputs": [
    {
     "name": "stdout",
     "output_type": "stream",
     "text": [
      "2019-03-31T19:57:12\n"
     ]
    }
   ],
   "source": [
    "print(get_time_zone(-78.853563,42.8962295,\"2019-03-31T23:57:12.000Z\"))"
   ]
  },
  {
   "cell_type": "code",
   "execution_count": 27,
   "id": "e73f1d57",
   "metadata": {},
   "outputs": [],
   "source": [
    "#csv add local_time column\n",
    "import pandas as pd\n",
    "df= pd.read_csv(r\"E:\\OneDrive - University of Georgia\\Project\\Data\\tweet_data_2_food\\4.1 LocalTime\\fastFoodResturant_bboxStateLevel_localTime2021_1.csv\",low_memory=False)"
   ]
  },
  {
   "cell_type": "code",
   "execution_count": 58,
   "id": "e030a0c6",
   "metadata": {},
   "outputs": [
    {
     "name": "stdout",
     "output_type": "stream",
     "text": [
      "518 created_at NA\n",
      "114390 2021-08-23T13:13:41.000Z NA\n",
      "169732 2021-06-14T18:10:50.000Z NA\n",
      "245353 2021-03-12T15:01:12.000Z NA\n",
      "260278 2021-02-24T18:29:30.000Z NA\n",
      "279789 2021-02-03T13:15:25.000Z NA\n"
     ]
    }
   ],
   "source": [
    "pd.options.mode.chained_assignment = None\n",
    "i=0\n",
    "#291254\n",
    "for row in df.iterrows():\n",
    "    if  str(df['local_time'][i])[0]!=\"2\":\n",
    "        df['local_time'][i]= get_time_zone(df[\"lon\"][i],df[\"lat\"][i],df[\"created_at\"][i])  \n",
    "        print(i,df[\"created_at\"][i],df['local_time'][i])\n",
    "    #print(i)\n",
    "    i+=1"
   ]
  },
  {
   "cell_type": "code",
   "execution_count": 59,
   "id": "158ce793",
   "metadata": {},
   "outputs": [],
   "source": [
    "df.to_csv(r\"E:\\OneDrive - University of Georgia\\Project\\Data\\tweet_data_2_food\\4.1 LocalTime\\fastFoodResturant_bboxStateLevel_localTime2021_2.csv\",encoding=\"utf_8_sig\",index=False)"
   ]
  },
  {
   "cell_type": "code",
   "execution_count": null,
   "id": "f49595ad",
   "metadata": {},
   "outputs": [],
   "source": [
    "df"
   ]
  },
  {
   "cell_type": "markdown",
   "id": "b1c25415",
   "metadata": {},
   "source": [
    "## Method2. Use datetime and pytz library"
   ]
  },
  {
   "cell_type": "code",
   "execution_count": null,
   "id": "37efd35e",
   "metadata": {},
   "outputs": [],
   "source": [
    "from tzwhere import tzwhere\n",
    "from pytz import timezone\n",
    "import datetime\n",
    "import pytz\n",
    "import time\n",
    "from dateutil import parser"
   ]
  },
  {
   "cell_type": "code",
   "execution_count": null,
   "id": "1045df38",
   "metadata": {},
   "outputs": [],
   "source": [
    "#iso to timestamp\n",
    "import datetime,pytz\n",
    "\n",
    "def iso2timestamp(datestring, format='%Y-%m-%dT%H:%M:%S.%fZ',timespec='seconds'):\n",
    "    \"\"\"\n",
    "    ISO8601时间转换为时间戳\n",
    "\n",
    "    :param datestring:iso时间字符串 2019-03-25T16:00:00.000Z，2019-03-25T16:00:00.000111Z\n",
    "    :param format:%Y-%m-%dT%H:%M:%S.%fZ；其中%f 表示毫秒或者微秒\n",
    "    :param timespec:返回时间戳最小单位 seconds 秒，milliseconds 毫秒,microseconds 微秒\n",
    "    :return:时间戳 默认单位秒\n",
    "    \"\"\"\n",
    "    tz = pytz.timezone('Asia/Shanghai')\n",
    "    utc_time = datetime.datetime.strptime(datestring, format)  # 将字符串读取为 时间 class datetime.datetime\n",
    "\n",
    "    time = utc_time.replace(tzinfo=pytz.utc).astimezone(tz)\n",
    "\n",
    "    times = {\n",
    "        'seconds': int(time.timestamp()),\n",
    "        'milliseconds': round(time.timestamp() * 1000),\n",
    "        'microseconds': round(time.timestamp() * 1000 * 1000),\n",
    "    }\n",
    "    return times[timespec]"
   ]
  },
  {
   "cell_type": "code",
   "execution_count": null,
   "id": "48b203ff",
   "metadata": {},
   "outputs": [],
   "source": [
    "def get_local_time(lon,lat,isotime_utc):\n",
    "    \n",
    "    try: \n",
    "        #iso to timestamp\n",
    "        timestamp = iso2timestamp(isotime_utc)\n",
    "    \n",
    "        #timestamp, lat, lon to local_time\n",
    "        tz = tzwhere.tzwhere(forceTZ=True)\n",
    "        time_zone = tz.tzNameAt(lat,lon, forceTZ=True)  #纬度，经度。 得到对应的时区\n",
    "        #print(timestamp)\n",
    "        local_time = datetime.datetime.fromtimestamp(timestamp,pytz.timezone(time_zone)).strftime('%Y-%m-%dT%H:%M:%S')\n",
    "    \n",
    "        return str(local_time)\n",
    "    \n",
    "    except:\n",
    "        return \"NA\""
   ]
  },
  {
   "cell_type": "code",
   "execution_count": null,
   "id": "fd5d2389",
   "metadata": {
    "scrolled": false
   },
   "outputs": [],
   "source": [
    "print(get_local_time(-78.853563,42.8962295,\"2019-03-31T23:57:12.000Z\"))"
   ]
  },
  {
   "cell_type": "code",
   "execution_count": null,
   "id": "f5a20ab0",
   "metadata": {},
   "outputs": [],
   "source": []
  },
  {
   "cell_type": "code",
   "execution_count": null,
   "id": "ae07e5ae",
   "metadata": {},
   "outputs": [],
   "source": [
    "#csv add local_time column\n",
    "import pandas as pd\n",
    "df= pd.read_csv(r\"Estate_level.csv\",low_memory=False) "
   ]
  },
  {
   "cell_type": "code",
   "execution_count": null,
   "id": "f486f652",
   "metadata": {},
   "outputs": [],
   "source": []
  },
  {
   "cell_type": "code",
   "execution_count": null,
   "id": "16691171",
   "metadata": {},
   "outputs": [],
   "source": [
    "#TRY THIS\n",
    "#Recalculate the NA timezone\n",
    "pd.options.mode.chained_assignment = None\n",
    "i=0\n",
    "\n",
    "for row in df.iterrows():\n",
    "    if  str(df['local_time'][i])==\"nan\":\n",
    "        df['local_time'][i]= get_local_time(df[\"lon\"][i],df[\"lat\"][i],df[\"created_at\"][i])  \n",
    "        print(i)\n",
    "        print(df['local_time'][i])\n",
    "   \n",
    "    i+=1"
   ]
  },
  {
   "cell_type": "code",
   "execution_count": null,
   "id": "6addfa94",
   "metadata": {},
   "outputs": [],
   "source": [
    "df.to_csv(r\"E:\\OneDrive - University of Georgia\\Project\\Data\\tweet_data_2_food\\4.1 LocalTime\\2.csv\",encoding=\"utf_8_sig\",index=False)"
   ]
  },
  {
   "cell_type": "code",
   "execution_count": null,
   "id": "603dc112",
   "metadata": {},
   "outputs": [],
   "source": []
  }
 ],
 "metadata": {
  "kernelspec": {
   "display_name": "Python 3",
   "language": "python",
   "name": "python3"
  },
  "language_info": {
   "codemirror_mode": {
    "name": "ipython",
    "version": 3
   },
   "file_extension": ".py",
   "mimetype": "text/x-python",
   "name": "python",
   "nbconvert_exporter": "python",
   "pygments_lexer": "ipython3",
   "version": "3.8.8"
  }
 },
 "nbformat": 4,
 "nbformat_minor": 5
}
