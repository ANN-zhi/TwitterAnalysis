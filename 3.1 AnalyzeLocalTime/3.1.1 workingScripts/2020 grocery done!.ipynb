{
 "cells": [
  {
   "cell_type": "markdown",
   "id": "e181f86d",
   "metadata": {},
   "source": [
    "# \"iso 1861 UTC\" \"lon\" \"lat\"  transfer to local time"
   ]
  },
  {
   "cell_type": "code",
   "execution_count": null,
   "id": "49abd5d6",
   "metadata": {},
   "outputs": [],
   "source": []
  },
  {
   "cell_type": "markdown",
   "id": "717b4604",
   "metadata": {},
   "source": [
    "## Method 1. Bing Map API"
   ]
  },
  {
   "cell_type": "markdown",
   "id": "ef404034",
   "metadata": {},
   "source": [
    "use bing map API https://docs.microsoft.com/en-us/bingmaps/rest-services/timezone/convert-local-time-zone"
   ]
  },
  {
   "cell_type": "code",
   "execution_count": 1,
   "id": "7557ff62",
   "metadata": {},
   "outputs": [],
   "source": [
    "import datetime\n",
    "import json\n",
    "import os\n",
    "import requests\n",
    "import pandas as pd"
   ]
  },
  {
   "cell_type": "code",
   "execution_count": 30,
   "id": "c6e90199",
   "metadata": {},
   "outputs": [
    {
     "name": "stdout",
     "output_type": "stream",
     "text": [
      "AtpaOr6ss6CaEeNNDrVMBINBfospfvbMiF7FhhnyGgL5y0fIM9QvSZZc0n5er1Xu\n"
     ]
    }
   ],
   "source": [
    "# Using Bing Maps API\n",
    "BING_MAPS_KEY =\"AtpaOr6ss6CaEeNNDrVMBINBfospfvbMiF7FhhnyGgL5y0fIM9QvSZZc0n5er1Xu\"\n",
    "print(BING_MAPS_KEY )"
   ]
  },
  {
   "cell_type": "code",
   "execution_count": 24,
   "id": "299d88c2",
   "metadata": {},
   "outputs": [],
   "source": [
    "#working\n",
    "def get_time_zone(lon,lat,isotime_utc):\n",
    "    try: \n",
    "        r = requests.get(\n",
    "        f\"https://dev.virtualearth.net/REST/v1/TimeZone/{lat},{lon}?datetime={isotime_utc}&key={BING_MAPS_KEY}\")\n",
    "    \n",
    "        return r.json()['resourceSets'][0]['resources'][0]['timeZone']['convertedTime']['localTime']\n",
    "    except:\n",
    "        return \"NA\""
   ]
  },
  {
   "cell_type": "code",
   "execution_count": 48,
   "id": "7bb69f8d",
   "metadata": {},
   "outputs": [
    {
     "name": "stdout",
     "output_type": "stream",
     "text": [
      "2019-03-31T19:57:12\n"
     ]
    }
   ],
   "source": [
    "print(get_time_zone(-78.853563,42.8962295,\"2019-03-31T23:57:12.000Z\"))"
   ]
  },
  {
   "cell_type": "code",
   "execution_count": 5,
   "id": "e73f1d57",
   "metadata": {},
   "outputs": [],
   "source": [
    "#csv add local_time column\n",
    "import pandas as pd\n",
    "df= pd.read_csv(r\"E:\\OneDrive - University of Georgia\\Project\\Data\\tweet_data_3_groccery\\4.1 LocalTime\\groceryStore_bboxStateLevel_localTime2020_1.csv\",low_memory=False)"
   ]
  },
  {
   "cell_type": "code",
   "execution_count": 45,
   "id": "e030a0c6",
   "metadata": {
    "scrolled": false
   },
   "outputs": [
    {
     "name": "stdout",
     "output_type": "stream",
     "text": [
      "35507 2020-11-15T20:40:40.000Z NA\n",
      "45070 2020-11-02T17:24:43.000Z NA\n",
      "46939 2020-10-29T19:12:07.000Z NA\n",
      "59603 2020-09-27T23:18:23.000Z NA\n",
      "67739 2020-09-10T23:24:42.000Z NA\n",
      "76819 2020-08-21T11:21:13.000Z NA\n",
      "85331 2020-08-03T22:12:17.000Z NA\n",
      "97713 2020-07-13T21:47:55.000Z NA\n",
      "112306 2020-06-16T13:47:45.000Z NA\n",
      "122132 2020-05-27T15:38:32.000Z NA\n",
      "127946 2020-05-19T07:28:42.000Z NA\n",
      "132190 2020-05-12T14:21:04.000Z NA\n",
      "134907 2020-05-08T14:36:07.000Z NA\n",
      "149100 2020-04-17T21:03:43.000Z NA\n",
      "157696 2020-04-07T02:04:00.000Z NA\n",
      "173632 2020-03-21T23:50:59.000Z NA\n",
      "180923 2020-03-17T03:34:06.000Z NA\n",
      "180959 2020-03-17T03:07:40.000Z NA\n",
      "180992 2020-03-17T02:50:42.000Z NA\n",
      "189347 2020-03-13T19:32:21.000Z NA\n",
      "196570 2020-03-08T00:42:17.000Z NA\n",
      "199396 2020-03-04T01:03:35.000Z NA\n",
      "214643 2020-02-05T19:09:17.000Z NA\n",
      "222640 2020-01-21T17:46:01.000Z NA\n"
     ]
    }
   ],
   "source": [
    "pd.options.mode.chained_assignment = None\n",
    "i=0\n",
    "#222941\n",
    "for row in df.head(232941).iterrows():\n",
    "    if  str(df['local_time'][i])[0]!=\"2\":\n",
    "        df['local_time'][i]= get_time_zone(df[\"lon\"][i],df[\"lat\"][i],df[\"created_at\"][i])  \n",
    "        print(i,df[\"created_at\"][i],df['local_time'][i])\n",
    "    #print(i)\n",
    "    i+=1"
   ]
  },
  {
   "cell_type": "code",
   "execution_count": 47,
   "id": "158ce793",
   "metadata": {},
   "outputs": [],
   "source": [
    "df.to_csv(r\"E:\\OneDrive - University of Georgia\\Project\\Data\\tweet_data_3_groccery\\4.1 LocalTime\\groceryStore_bboxStateLevel_localTime2020_2.csv\",encoding=\"utf_8_sig\",index=False)"
   ]
  },
  {
   "cell_type": "markdown",
   "id": "b1c25415",
   "metadata": {},
   "source": [
    "## Method2. Use datetime and pytz library"
   ]
  },
  {
   "cell_type": "code",
   "execution_count": null,
   "id": "37efd35e",
   "metadata": {},
   "outputs": [],
   "source": [
    "from tzwhere import tzwhere\n",
    "from pytz import timezone\n",
    "import datetime\n",
    "import pytz\n",
    "import time\n",
    "from dateutil import parser"
   ]
  },
  {
   "cell_type": "code",
   "execution_count": null,
   "id": "1045df38",
   "metadata": {},
   "outputs": [],
   "source": [
    "#iso to timestamp\n",
    "import datetime,pytz\n",
    "\n",
    "def iso2timestamp(datestring, format='%Y-%m-%dT%H:%M:%S.%fZ',timespec='seconds'):\n",
    "    \"\"\"\n",
    "    ISO8601时间转换为时间戳\n",
    "\n",
    "    :param datestring:iso时间字符串 2019-03-25T16:00:00.000Z，2019-03-25T16:00:00.000111Z\n",
    "    :param format:%Y-%m-%dT%H:%M:%S.%fZ；其中%f 表示毫秒或者微秒\n",
    "    :param timespec:返回时间戳最小单位 seconds 秒，milliseconds 毫秒,microseconds 微秒\n",
    "    :return:时间戳 默认单位秒\n",
    "    \"\"\"\n",
    "    tz = pytz.timezone('Asia/Shanghai')\n",
    "    utc_time = datetime.datetime.strptime(datestring, format)  # 将字符串读取为 时间 class datetime.datetime\n",
    "\n",
    "    time = utc_time.replace(tzinfo=pytz.utc).astimezone(tz)\n",
    "\n",
    "    times = {\n",
    "        'seconds': int(time.timestamp()),\n",
    "        'milliseconds': round(time.timestamp() * 1000),\n",
    "        'microseconds': round(time.timestamp() * 1000 * 1000),\n",
    "    }\n",
    "    return times[timespec]"
   ]
  },
  {
   "cell_type": "code",
   "execution_count": null,
   "id": "48b203ff",
   "metadata": {},
   "outputs": [],
   "source": [
    "def get_local_time(lon,lat,isotime_utc):\n",
    "    \n",
    "    try: \n",
    "        #iso to timestamp\n",
    "        timestamp = iso2timestamp(isotime_utc)\n",
    "    \n",
    "        #timestamp, lat, lon to local_time\n",
    "        tz = tzwhere.tzwhere(forceTZ=True)\n",
    "        time_zone = tz.tzNameAt(lat,lon, forceTZ=True)  #纬度，经度。 得到对应的时区\n",
    "        #print(timestamp)\n",
    "        local_time = datetime.datetime.fromtimestamp(timestamp,pytz.timezone(time_zone)).strftime('%Y-%m-%dT%H:%M:%S')\n",
    "    \n",
    "        return str(local_time)\n",
    "    \n",
    "    except:\n",
    "        return \"NA\""
   ]
  },
  {
   "cell_type": "code",
   "execution_count": null,
   "id": "fd5d2389",
   "metadata": {
    "scrolled": false
   },
   "outputs": [],
   "source": [
    "print(get_local_time(-78.853563,42.8962295,\"2019-03-31T23:57:12.000Z\"))"
   ]
  },
  {
   "cell_type": "code",
   "execution_count": null,
   "id": "f5a20ab0",
   "metadata": {},
   "outputs": [],
   "source": []
  },
  {
   "cell_type": "code",
   "execution_count": null,
   "id": "ae07e5ae",
   "metadata": {},
   "outputs": [],
   "source": [
    "#csv add local_time column\n",
    "import pandas as pd\n",
    "df= pd.read_csv(r\"Estate_level.csv\",low_memory=False) "
   ]
  },
  {
   "cell_type": "code",
   "execution_count": null,
   "id": "f486f652",
   "metadata": {},
   "outputs": [],
   "source": []
  },
  {
   "cell_type": "code",
   "execution_count": null,
   "id": "16691171",
   "metadata": {},
   "outputs": [],
   "source": [
    "#TRY THIS\n",
    "#Recalculate the NA timezone\n",
    "pd.options.mode.chained_assignment = None\n",
    "i=0\n",
    "\n",
    "for row in df.iterrows():\n",
    "    if  str(df['local_time'][i])==\"nan\":\n",
    "        df['local_time'][i]= get_local_time(df[\"lon\"][i],df[\"lat\"][i],df[\"created_at\"][i])  \n",
    "        print(i)\n",
    "        print(df['local_time'][i])\n",
    "   \n",
    "    i+=1"
   ]
  },
  {
   "cell_type": "code",
   "execution_count": null,
   "id": "6addfa94",
   "metadata": {},
   "outputs": [],
   "source": [
    "df.to_csv(r\"E:\\Project\\Data\\tweet_data\\3.1 FilterBBox4Level_4csv\\2.csv\",encoding=\"utf_8_sig\",index=False)"
   ]
  },
  {
   "cell_type": "code",
   "execution_count": null,
   "id": "603dc112",
   "metadata": {},
   "outputs": [],
   "source": []
  }
 ],
 "metadata": {
  "kernelspec": {
   "display_name": "Python 3",
   "language": "python",
   "name": "python3"
  },
  "language_info": {
   "codemirror_mode": {
    "name": "ipython",
    "version": 3
   },
   "file_extension": ".py",
   "mimetype": "text/x-python",
   "name": "python",
   "nbconvert_exporter": "python",
   "pygments_lexer": "ipython3",
   "version": "3.8.8"
  }
 },
 "nbformat": 4,
 "nbformat_minor": 5
}
