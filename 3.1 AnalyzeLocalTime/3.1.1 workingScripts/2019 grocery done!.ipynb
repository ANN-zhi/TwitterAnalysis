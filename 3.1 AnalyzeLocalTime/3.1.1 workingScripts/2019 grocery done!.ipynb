{
 "cells": [
  {
   "cell_type": "markdown",
   "id": "e181f86d",
   "metadata": {},
   "source": [
    "# \"iso 1861 UTC\" \"lon\" \"lat\"  transfer to local time"
   ]
  },
  {
   "cell_type": "code",
   "execution_count": null,
   "id": "49abd5d6",
   "metadata": {},
   "outputs": [],
   "source": []
  },
  {
   "cell_type": "markdown",
   "id": "717b4604",
   "metadata": {},
   "source": [
    "## Method 1. Bing Map API"
   ]
  },
  {
   "cell_type": "markdown",
   "id": "ef404034",
   "metadata": {},
   "source": [
    "use bing map API https://docs.microsoft.com/en-us/bingmaps/rest-services/timezone/convert-local-time-zone"
   ]
  },
  {
   "cell_type": "code",
   "execution_count": 67,
   "id": "7557ff62",
   "metadata": {},
   "outputs": [],
   "source": [
    "import datetime\n",
    "import json\n",
    "import os\n",
    "import requests\n",
    "import pandas as pd"
   ]
  },
  {
   "cell_type": "code",
   "execution_count": 71,
   "id": "523784e5",
   "metadata": {},
   "outputs": [
    {
     "name": "stdout",
     "output_type": "stream",
     "text": [
      "AhsT3Omaszmnue8vawflFt6FuwnJYkrhxy9EwGNKqp8wt0jn_pqTkY3qpdcZf54S\n"
     ]
    }
   ],
   "source": [
    "# Using Bing Maps API\n",
    "BING_MAPS_KEY =\"AhsT3Omaszmnue8vawflFt6FuwnJYkrhxy9EwGNKqp8wt0jn_pqTkY3qpdcZf54S\"\n",
    "print(BING_MAPS_KEY )\n",
    "#AtpaOr6ss6CaEeNNDrVMBINBfospfvbMiF7FhhnyGgL5y0fIM9QvSZZc0n5er1Xu"
   ]
  },
  {
   "cell_type": "code",
   "execution_count": 69,
   "id": "299d88c2",
   "metadata": {},
   "outputs": [],
   "source": [
    "#working\n",
    "def get_time_zone(lon,lat,isotime_utc):\n",
    "    try: \n",
    "        r = requests.get(\n",
    "        f\"https://dev.virtualearth.net/REST/v1/TimeZone/{lat},{lon}?datetime={isotime_utc}&key={BING_MAPS_KEY}\")\n",
    "    \n",
    "        return r.json()['resourceSets'][0]['resources'][0]['timeZone']['convertedTime']['localTime']\n",
    "    except:\n",
    "        return \"NA\""
   ]
  },
  {
   "cell_type": "code",
   "execution_count": 76,
   "id": "7bb69f8d",
   "metadata": {},
   "outputs": [
    {
     "name": "stdout",
     "output_type": "stream",
     "text": [
      "2019-03-31T19:57:12\n"
     ]
    }
   ],
   "source": [
    "print(get_time_zone(-78.853563,42.8962295,\"2019-03-31T23:57:12.000Z\"))"
   ]
  },
  {
   "cell_type": "code",
   "execution_count": 74,
   "id": "e73f1d57",
   "metadata": {},
   "outputs": [],
   "source": [
    "#csv add local_time column\n",
    "import pandas as pd\n",
    "df= pd.read_csv(r\"E:\\OneDrive - University of Georgia\\Project\\Data\\tweet_data_3_groccery\\4.1 LocalTime\\groceryStore_bboxStateLevel_localTime2019_2.csv\",low_memory=False)"
   ]
  },
  {
   "cell_type": "code",
   "execution_count": 75,
   "id": "e030a0c6",
   "metadata": {},
   "outputs": [
    {
     "name": "stdout",
     "output_type": "stream",
     "text": [
      "4166 2020-01-12T21:16:47.000Z NA\n",
      "13338 2019-12-25T16:11:42.000Z NA\n",
      "29247 2019-11-30T19:34:38.000Z NA\n",
      "29622 2019-11-30T03:47:31.000Z NA\n",
      "29927 2019-11-29T21:25:06.000Z NA\n",
      "36125 2019-11-20T22:45:25.000Z NA\n",
      "51234 2019-10-25T20:45:49.000Z NA\n",
      "55585 2019-10-17T02:51:13.000Z NA\n",
      "69828 2019-09-21T19:14:05.000Z NA\n",
      "71093 2019-09-19T21:01:59.000Z NA\n",
      "72238 2019-09-17T20:30:51.000Z NA\n",
      "88074 2019-08-27T00:38:18.000Z NA\n",
      "88075 2019-08-27T00:37:54.000Z NA\n",
      "93388 2019-08-18T18:44:11.000Z NA\n",
      "96684 2019-08-14T01:04:12.000Z NA\n",
      "102048 2019-08-09T01:45:03.000Z NA\n",
      "105353 2019-08-05T15:31:40.000Z NA\n",
      "116416 2019-07-21T21:42:04.000Z NA\n",
      "123802 2019-07-09T13:08:12.000Z NA\n",
      "132895 2019-06-24T00:37:44.000Z NA\n",
      "142079 2019-06-08T19:16:20.000Z NA\n",
      "143203 2019-06-06T23:57:36.000Z NA\n",
      "146217 2019-06-02T02:03:58.000Z NA\n",
      "153294 2019-05-19T22:36:44.000Z NA\n",
      "153986 2019-05-18T18:17:42.000Z NA\n",
      "165896 2019-04-25T16:59:19.000Z NA\n",
      "166390 2019-04-24T18:48:01.000Z NA\n",
      "167935 2019-04-21T17:50:02.000Z NA\n",
      "175583 2019-04-07T19:18:52.000Z NA\n",
      "177812 2019-04-03T05:20:46.000Z NA\n",
      "186003 2019-03-16T15:39:16.000Z NA\n",
      "200912 2019-02-17T23:56:02.000Z NA\n",
      "203117 2019-02-14T18:00:09.000Z NA\n"
     ]
    }
   ],
   "source": [
    "pd.options.mode.chained_assignment = None\n",
    "i=0\n",
    "#219307\n",
    "for row in df.head(225000).iterrows():\n",
    "    if  str(df['local_time'][i])[0]!=\"2\":\n",
    "        df['local_time'][i]= get_time_zone(df[\"lon\"][i],df[\"lat\"][i],df[\"created_at\"][i])  \n",
    "        print(i,df[\"created_at\"][i],df['local_time'][i])\n",
    "    #print(i)\n",
    "    i+=1"
   ]
  },
  {
   "cell_type": "code",
   "execution_count": 66,
   "id": "158ce793",
   "metadata": {},
   "outputs": [],
   "source": [
    "df.to_csv(r\"E:\\OneDrive - University of Georgia\\Project\\Data\\tweet_data_3_groccery\\4.1 LocalTime\\groceryStore_bboxStateLevel_localTime2019_2.csv\",encoding=\"utf_8_sig\",index=False)"
   ]
  },
  {
   "cell_type": "markdown",
   "id": "b1c25415",
   "metadata": {},
   "source": [
    "## Method2. Use datetime and pytz library"
   ]
  },
  {
   "cell_type": "code",
   "execution_count": null,
   "id": "37efd35e",
   "metadata": {},
   "outputs": [],
   "source": [
    "from tzwhere import tzwhere\n",
    "from pytz import timezone\n",
    "import datetime\n",
    "import pytz\n",
    "import time\n",
    "from dateutil import parser"
   ]
  },
  {
   "cell_type": "code",
   "execution_count": null,
   "id": "1045df38",
   "metadata": {},
   "outputs": [],
   "source": [
    "#iso to timestamp\n",
    "import datetime,pytz\n",
    "\n",
    "def iso2timestamp(datestring, format='%Y-%m-%dT%H:%M:%S.%fZ',timespec='seconds'):\n",
    "    \"\"\"\n",
    "    ISO8601时间转换为时间戳\n",
    "\n",
    "    :param datestring:iso时间字符串 2019-03-25T16:00:00.000Z，2019-03-25T16:00:00.000111Z\n",
    "    :param format:%Y-%m-%dT%H:%M:%S.%fZ；其中%f 表示毫秒或者微秒\n",
    "    :param timespec:返回时间戳最小单位 seconds 秒，milliseconds 毫秒,microseconds 微秒\n",
    "    :return:时间戳 默认单位秒\n",
    "    \"\"\"\n",
    "    tz = pytz.timezone('Asia/Shanghai')\n",
    "    utc_time = datetime.datetime.strptime(datestring, format)  # 将字符串读取为 时间 class datetime.datetime\n",
    "\n",
    "    time = utc_time.replace(tzinfo=pytz.utc).astimezone(tz)\n",
    "\n",
    "    times = {\n",
    "        'seconds': int(time.timestamp()),\n",
    "        'milliseconds': round(time.timestamp() * 1000),\n",
    "        'microseconds': round(time.timestamp() * 1000 * 1000),\n",
    "    }\n",
    "    return times[timespec]"
   ]
  },
  {
   "cell_type": "code",
   "execution_count": null,
   "id": "48b203ff",
   "metadata": {},
   "outputs": [],
   "source": [
    "def get_local_time(lon,lat,isotime_utc):\n",
    "    \n",
    "    try: \n",
    "        #iso to timestamp\n",
    "        timestamp = iso2timestamp(isotime_utc)\n",
    "    \n",
    "        #timestamp, lat, lon to local_time\n",
    "        tz = tzwhere.tzwhere(forceTZ=True)\n",
    "        time_zone = tz.tzNameAt(lat,lon, forceTZ=True)  #纬度，经度。 得到对应的时区\n",
    "        #print(timestamp)\n",
    "        local_time = datetime.datetime.fromtimestamp(timestamp,pytz.timezone(time_zone)).strftime('%Y-%m-%dT%H:%M:%S')\n",
    "    \n",
    "        return str(local_time)\n",
    "    \n",
    "    except:\n",
    "        return \"NA\""
   ]
  },
  {
   "cell_type": "code",
   "execution_count": null,
   "id": "fd5d2389",
   "metadata": {
    "scrolled": false
   },
   "outputs": [],
   "source": [
    "print(get_local_time(-78.853563,42.8962295,\"2019-03-31T23:57:12.000Z\"))"
   ]
  },
  {
   "cell_type": "code",
   "execution_count": null,
   "id": "f5a20ab0",
   "metadata": {},
   "outputs": [],
   "source": []
  },
  {
   "cell_type": "code",
   "execution_count": null,
   "id": "ae07e5ae",
   "metadata": {},
   "outputs": [],
   "source": [
    "#csv add local_time column\n",
    "import pandas as pd\n",
    "df= pd.read_csv(r\"Estate_level.csv\",low_memory=False) "
   ]
  },
  {
   "cell_type": "code",
   "execution_count": null,
   "id": "f486f652",
   "metadata": {},
   "outputs": [],
   "source": []
  },
  {
   "cell_type": "code",
   "execution_count": null,
   "id": "16691171",
   "metadata": {},
   "outputs": [],
   "source": [
    "#TRY THIS\n",
    "#Recalculate the NA timezone\n",
    "pd.options.mode.chained_assignment = None\n",
    "i=0\n",
    "\n",
    "for row in df.iterrows():\n",
    "    if  str(df['local_time'][i])==\"nan\":\n",
    "        df['local_time'][i]= get_local_time(df[\"lon\"][i],df[\"lat\"][i],df[\"created_at\"][i])  \n",
    "        print(i)\n",
    "        print(df['local_time'][i])\n",
    "   \n",
    "    i+=1"
   ]
  },
  {
   "cell_type": "code",
   "execution_count": null,
   "id": "6addfa94",
   "metadata": {},
   "outputs": [],
   "source": [
    "df.to_csv(r\"E:\\Project\\Data\\tweet_data\\3.1 FilterBBox4Level_4csv\\2.csv\",encoding=\"utf_8_sig\",index=False)"
   ]
  },
  {
   "cell_type": "code",
   "execution_count": null,
   "id": "603dc112",
   "metadata": {},
   "outputs": [],
   "source": []
  }
 ],
 "metadata": {
  "kernelspec": {
   "display_name": "Python 3",
   "language": "python",
   "name": "python3"
  },
  "language_info": {
   "codemirror_mode": {
    "name": "ipython",
    "version": 3
   },
   "file_extension": ".py",
   "mimetype": "text/x-python",
   "name": "python",
   "nbconvert_exporter": "python",
   "pygments_lexer": "ipython3",
   "version": "3.8.8"
  }
 },
 "nbformat": 4,
 "nbformat_minor": 5
}
