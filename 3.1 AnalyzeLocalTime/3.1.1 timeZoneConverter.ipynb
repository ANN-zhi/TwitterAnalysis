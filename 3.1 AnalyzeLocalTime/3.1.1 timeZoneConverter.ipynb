{
 "cells": [
  {
   "cell_type": "markdown",
   "id": "e181f86d",
   "metadata": {},
   "source": [
    "# \"iso 1861 UTC\" \"lon\" \"lat\"  transfer to local time"
   ]
  },
  {
   "cell_type": "code",
   "execution_count": null,
   "id": "49abd5d6",
   "metadata": {},
   "outputs": [],
   "source": [
    "# NOTE: \"\" \"nan\" \"NA\"\n",
    "#split if necessary \n"
   ]
  },
  {
   "cell_type": "markdown",
   "id": "717b4604",
   "metadata": {},
   "source": [
    "## Method 1. Bing Map API"
   ]
  },
  {
   "cell_type": "markdown",
   "id": "ef404034",
   "metadata": {},
   "source": [
    "use bing map API https://docs.microsoft.com/en-us/bingmaps/rest-services/timezone/convert-local-time-zone"
   ]
  },
  {
   "cell_type": "code",
   "execution_count": 1,
   "id": "7557ff62",
   "metadata": {},
   "outputs": [],
   "source": [
    "import datetime\n",
    "import json\n",
    "import os\n",
    "import requests\n",
    "import pandas as pd"
   ]
  },
  {
   "cell_type": "code",
   "execution_count": null,
   "id": "f9b6f6f4",
   "metadata": {},
   "outputs": [],
   "source": [
    "# Using Bing Maps API\n",
    "BING_MAPS_KEY =\"96smxwccSWB7ORPBMK5w~erRzhS00OqnNkE7bxALwew~Al1Ca6C_tc8rfRaBCqDyyh1SClWmhH64i59W3d3Yeb5ES0VjAWvpxO9s0U4fagz7\"\n",
    "print(BING_MAPS_KEY )"
   ]
  },
  {
   "cell_type": "code",
   "execution_count": null,
   "id": "866f12f3",
   "metadata": {},
   "outputs": [],
   "source": [
    "# Using Bing Maps API\n",
    "BING_MAPS_KEY =\"ldamns3msYqvbSuDkqZD~IrGyPtgz7gYQ4l93OD0Z1Q~Au7uenxOJILxC8NN_IivaUKmEL9-03nW1Gf4tVEACqllvMWPNKc_glsMMPNSQn0x\"\n",
    "print(BING_MAPS_KEY )"
   ]
  },
  {
   "cell_type": "code",
   "execution_count": null,
   "id": "656a959d",
   "metadata": {},
   "outputs": [],
   "source": [
    "# Using Bing Maps API\n",
    "BING_MAPS_KEY =\"96smxwccSWB7ORPBMK5w~erRzhS00OqnNkE7bxALwew~Al1Ca6C_tc8rfRaBCqDyyh1SClWmhH64i59W3d3Yeb5ES0VjAWvpxO9s0U4fagz7\"\n",
    "print(BING_MAPS_KEY )"
   ]
  },
  {
   "cell_type": "code",
   "execution_count": null,
   "id": "96cd407f",
   "metadata": {},
   "outputs": [],
   "source": [
    "# Using Bing Maps API\n",
    "BING_MAPS_KEY =\"ISkpmb64sTTxNt5jXLSZ~v2nBijG5npdTyWUk6C0eyw~AgCyTQL0FNeT9pferGK7qV6SAGDuz9OSob1hd1t4NP-2OzfSzlESwsIW2zRke4tq\"\n",
    "print(BING_MAPS_KEY )"
   ]
  },
  {
   "cell_type": "code",
   "execution_count": null,
   "id": "b6123d72",
   "metadata": {},
   "outputs": [],
   "source": [
    "# Using Bing Maps API\n",
    "BING_MAPS_KEY =\"lu6podamubJLuRm3PMyQ~mBk7vfkXUBgH063FuCWhFg~Akny7AmvKEIsvJ4zCcp_GL4E9OqGAfrwm-Rt6RLRkZWJXwehbaQRXCfHzgpvGMuG\"\n",
    "print(BING_MAPS_KEY )"
   ]
  },
  {
   "cell_type": "code",
   "execution_count": null,
   "id": "3d165572",
   "metadata": {},
   "outputs": [],
   "source": [
    "# Using Bing Maps API\n",
    "BING_MAPS_KEY =\"siPP3qFPBit9IVDSWOqC~10EvbUGaqQRGLdmqBgsp3g~AhmYbA2Ztath6J5b5sOKa9u6rlIh-HBAtqlAQHbWeNS_WrAsDiD-wxAFSUQ03l47\"\n",
    "print(BING_MAPS_KEY )"
   ]
  },
  {
   "cell_type": "code",
   "execution_count": null,
   "id": "adf66f8d",
   "metadata": {},
   "outputs": [],
   "source": [
    "# Using Bing Maps API\n",
    "BING_MAPS_KEY =\"VeGEiWHgFQxPJUIq1T3T~OKhiBnNwe3BIavDdmyVfmg~At4H1Yg9QEWbQTqn9E4JW9CoAGM_HWSasCwUWT1UWZfmSpXCFRat9r8RSNOVBCTN\"\n",
    "print(BING_MAPS_KEY )"
   ]
  },
  {
   "cell_type": "code",
   "execution_count": 5,
   "id": "ac180601",
   "metadata": {},
   "outputs": [
    {
     "name": "stdout",
     "output_type": "stream",
     "text": [
      "vHCWGFX8RNwAWGuwryRD~FnoAMg-Pn5tylcaBEF7jGQ~Apmzv-Z--lnMWmPDo5ecvf77RnISrhBob8Z3d3Pm5EFYhCEpms5oR4aDLTTnGA6Y\n"
     ]
    }
   ],
   "source": [
    "# Using Bing Maps API\n",
    "BING_MAPS_KEY =\"vHCWGFX8RNwAWGuwryRD~FnoAMg-Pn5tylcaBEF7jGQ~Apmzv-Z--lnMWmPDo5ecvf77RnISrhBob8Z3d3Pm5EFYhCEpms5oR4aDLTTnGA6Y\"\n",
    "print(BING_MAPS_KEY )"
   ]
  },
  {
   "cell_type": "code",
   "execution_count": 2,
   "id": "523784e5",
   "metadata": {},
   "outputs": [
    {
     "name": "stdout",
     "output_type": "stream",
     "text": [
      "vyKqcOz9nRy2yt6yywvr~q-pnB4cdWNTxS0DlGyPO8A~AnaWJw9aTdH72_f_v0UHY8CEq5i8kS2FhL0BC91NEUemr8B8SuMXm2Apa1GDAKhN\n"
     ]
    }
   ],
   "source": [
    "# Using Bing Maps API\n",
    "BING_MAPS_KEY =\"vyKqcOz9nRy2yt6yywvr~q-pnB4cdWNTxS0DlGyPO8A~AnaWJw9aTdH72_f_v0UHY8CEq5i8kS2FhL0BC91NEUemr8B8SuMXm2Apa1GDAKhN\"\n",
    "print(BING_MAPS_KEY )\n"
   ]
  },
  {
   "cell_type": "code",
   "execution_count": 8,
   "id": "3c255974",
   "metadata": {},
   "outputs": [
    {
     "name": "stdout",
     "output_type": "stream",
     "text": [
      "vyKqcOz9nRy2yt6yywvr~q-pnB4cdWNTxS0DlGyPO8A~AnaWJw9aTdH72_f_v0UHY8CEq5i8kS2FhL0BC91NEUemr8B8SuMXm2Apa1GDAKhN\n"
     ]
    }
   ],
   "source": [
    "# Using Bing Maps API\n",
    "BING_MAPS_KEY =\"vyKqcOz9nRy2yt6yywvr~q-pnB4cdWNTxS0DlGyPO8A~AnaWJw9aTdH72_f_v0UHY8CEq5i8kS2FhL0BC91NEUemr8B8SuMXm2Apa1GDAKhN\"\n",
    "print(BING_MAPS_KEY )"
   ]
  },
  {
   "cell_type": "code",
   "execution_count": 11,
   "id": "c6e90199",
   "metadata": {},
   "outputs": [
    {
     "name": "stdout",
     "output_type": "stream",
     "text": [
      "RmIxNYhqstoKP9PbQ7w9~BrgpJHKfV6geitzGgi0EFg~AvrP8zOhCpnNH1vwNY_OWxaSm2WHPvybzVVHS20jBF4OrBSrpLhPHl5jbDrjnFQo\n"
     ]
    }
   ],
   "source": [
    "# Using Bing Maps API\n",
    "BING_MAPS_KEY =\"RmIxNYhqstoKP9PbQ7w9~BrgpJHKfV6geitzGgi0EFg~AvrP8zOhCpnNH1vwNY_OWxaSm2WHPvybzVVHS20jBF4OrBSrpLhPHl5jbDrjnFQo\"\n",
    "print(BING_MAPS_KEY )"
   ]
  },
  {
   "cell_type": "code",
   "execution_count": null,
   "id": "d11e6b71",
   "metadata": {},
   "outputs": [],
   "source": [
    "# Using Bing Maps API\n",
    "BING_MAPS_KEY =\"OG6Ef8Ho0XJr3d6iF89T~5e05uvUbzICD3sys-jsemw~AuCYwhXY0Lq364p2A7o2OKgCgZQTl3HFWE29wyesn_Zjg30_FJ9ol5XTZcQHoNnL\"\n",
    "print(BING_MAPS_KEY )"
   ]
  },
  {
   "cell_type": "code",
   "execution_count": null,
   "id": "e09e946d",
   "metadata": {},
   "outputs": [],
   "source": [
    "# Using Bing Maps API\n",
    "BING_MAPS_KEY =\"RmIxNYhqstoKP9PbQ7w9~BrgpJHKfV6geitzGgi0EFg~AvrP8zOhCpnNH1vwNY_OWxaSm2WHPvybzVVHS20jBF4OrBSrpLhPHl5jbDrjnFQo\"\n",
    "print(BING_MAPS_KEY )"
   ]
  },
  {
   "cell_type": "code",
   "execution_count": null,
   "id": "f5833723",
   "metadata": {},
   "outputs": [],
   "source": [
    "# Using Bing Maps API\n",
    "BING_MAPS_KEY =\"bkhaIcuaBlgLD5IeLuLn~Ub1o-Iguk5FarBCV6ywPBA~ApmzvlGOLoV-_FKOoTO8Cm6nfCXVj5CqDentWnd4Cgm0Dsd3o2yIXh5idzJ16FcF\"\n",
    "print(BING_MAPS_KEY )"
   ]
  },
  {
   "cell_type": "code",
   "execution_count": null,
   "id": "3140f186",
   "metadata": {},
   "outputs": [],
   "source": [
    "# Using Bing Maps API\n",
    "BING_MAPS_KEY =\"9Rd7i84t4gAEbnN1Ijor~RumpZz4cBxZ7cldgWOTgug~ApdPGQSBzcW9IVviAzHwnZ5DuB7wlbyGJ5lpg5JXdytb92zajMW4-GG9E4SKmM-b\"\n",
    "print(BING_MAPS_KEY )"
   ]
  },
  {
   "cell_type": "code",
   "execution_count": null,
   "id": "dc1f0eb5",
   "metadata": {},
   "outputs": [],
   "source": [
    "# Using Bing Maps API\n",
    "BING_MAPS_KEY =\"\"\n",
    "print(BING_MAPS_KEY )"
   ]
  },
  {
   "cell_type": "code",
   "execution_count": null,
   "id": "611d135d",
   "metadata": {},
   "outputs": [],
   "source": [
    "# Using Bing Maps API\n",
    "BING_MAPS_KEY =\"\"\n",
    "print(BING_MAPS_KEY )"
   ]
  },
  {
   "cell_type": "code",
   "execution_count": null,
   "id": "bb774a89",
   "metadata": {},
   "outputs": [],
   "source": []
  },
  {
   "cell_type": "code",
   "execution_count": 12,
   "id": "299d88c2",
   "metadata": {},
   "outputs": [],
   "source": [
    "#working\n",
    "def get_time_zone(lon,lat,isotime_utc):\n",
    "    try: \n",
    "        r = requests.get(\n",
    "        f\"https://dev.virtualearth.net/REST/v1/TimeZone/{lat},{lon}?datetime={isotime_utc}&key={BING_MAPS_KEY}\")\n",
    "    \n",
    "        return r.json()['resourceSets'][0]['resources'][0]['timeZone']['convertedTime']['localTime']\n",
    "    except:\n",
    "        return \"NA\""
   ]
  },
  {
   "cell_type": "code",
   "execution_count": 13,
   "id": "7bb69f8d",
   "metadata": {},
   "outputs": [
    {
     "name": "stdout",
     "output_type": "stream",
     "text": [
      "2019-03-31T19:57:12\n"
     ]
    }
   ],
   "source": [
    "print(get_time_zone(-78.853563,42.8962295,\"2019-03-31T23:57:12.000Z\"))"
   ]
  },
  {
   "cell_type": "code",
   "execution_count": 42,
   "id": "e73f1d57",
   "metadata": {},
   "outputs": [],
   "source": [
    "#csv add local_time column\n",
    "import pandas as pd\n",
    "df= pd.read_csv(r\"E:\\Project\\Data\\tweet_data\\3.1 FilterBBox4Level_4csv\\2.csv\",low_memory=False)"
   ]
  },
  {
   "cell_type": "code",
   "execution_count": null,
   "id": "9be8706b",
   "metadata": {},
   "outputs": [],
   "source": [
    "pd.options.mode.chained_assignment = None\n",
    "i=0\n",
    "df['local_time'] =\"\"\n",
    "for row in df.iterrows():\n",
    "    \n",
    "    df['local_time'][i]= get_time_zone(df[\"lon\"][i],df[\"lat\"][i],df[\"created_at\"][i])  \n",
    "    print(i,df[\"created_at\"][i],df['local_time'][i])\n",
    "   \n",
    "    i+=1"
   ]
  },
  {
   "cell_type": "code",
   "execution_count": 32,
   "id": "e030a0c6",
   "metadata": {},
   "outputs": [
    {
     "name": "stdout",
     "output_type": "stream",
     "text": [
      "9877 2020-06-22T13:56:43.000Z NA\n",
      "21959 2020-07-12T21:52:38.000Z NA\n",
      "30267 2020-08-15T20:00:48.000Z NA\n",
      "42243 2020-09-02T17:23:39.000Z NA\n",
      "69303 2021-01-21T20:21:49.000Z NA\n"
     ]
    }
   ],
   "source": [
    "pd.options.mode.chained_assignment = None\n",
    "i=0\n",
    "\n",
    "for row in df.iterrows():\n",
    "    if  str(df['local_time'][i])==\"nan\":\n",
    "        df['local_time'][i]= get_time_zone(df[\"lon\"][i],df[\"lat\"][i],df[\"created_at\"][i])  \n",
    "        print(i,df[\"created_at\"][i],df['local_time'][i])\n",
    "    #print(i)\n",
    "    i+=1"
   ]
  },
  {
   "cell_type": "code",
   "execution_count": null,
   "id": "158ce793",
   "metadata": {},
   "outputs": [],
   "source": [
    "print(df.dtypes)"
   ]
  },
  {
   "cell_type": "markdown",
   "id": "b1c25415",
   "metadata": {},
   "source": [
    "## Method2. Use datetime and pytz library"
   ]
  },
  {
   "cell_type": "code",
   "execution_count": 33,
   "id": "37efd35e",
   "metadata": {},
   "outputs": [],
   "source": [
    "from tzwhere import tzwhere\n",
    "from pytz import timezone\n",
    "import datetime\n",
    "import pytz\n",
    "import time\n",
    "from dateutil import parser"
   ]
  },
  {
   "cell_type": "code",
   "execution_count": 34,
   "id": "1045df38",
   "metadata": {},
   "outputs": [],
   "source": [
    "#iso to timestamp\n",
    "import datetime,pytz\n",
    "\n",
    "def iso2timestamp(datestring, format='%Y-%m-%dT%H:%M:%S.%fZ',timespec='seconds'):\n",
    "    \"\"\"\n",
    "    ISO8601时间转换为时间戳\n",
    "\n",
    "    :param datestring:iso时间字符串 2019-03-25T16:00:00.000Z，2019-03-25T16:00:00.000111Z\n",
    "    :param format:%Y-%m-%dT%H:%M:%S.%fZ；其中%f 表示毫秒或者微秒\n",
    "    :param timespec:返回时间戳最小单位 seconds 秒，milliseconds 毫秒,microseconds 微秒\n",
    "    :return:时间戳 默认单位秒\n",
    "    \"\"\"\n",
    "    tz = pytz.timezone('Asia/Shanghai')\n",
    "    utc_time = datetime.datetime.strptime(datestring, format)  # 将字符串读取为 时间 class datetime.datetime\n",
    "\n",
    "    time = utc_time.replace(tzinfo=pytz.utc).astimezone(tz)\n",
    "\n",
    "    times = {\n",
    "        'seconds': int(time.timestamp()),\n",
    "        'milliseconds': round(time.timestamp() * 1000),\n",
    "        'microseconds': round(time.timestamp() * 1000 * 1000),\n",
    "    }\n",
    "    return times[timespec]"
   ]
  },
  {
   "cell_type": "code",
   "execution_count": 35,
   "id": "48b203ff",
   "metadata": {},
   "outputs": [],
   "source": [
    "def get_local_time(lon,lat,isotime_utc):\n",
    "    \n",
    "    try: \n",
    "        #iso to timestamp\n",
    "        timestamp = iso2timestamp(isotime_utc)\n",
    "    \n",
    "        #timestamp, lat, lon to local_time\n",
    "        tz = tzwhere.tzwhere(forceTZ=True)\n",
    "        time_zone = tz.tzNameAt(lat,lon, forceTZ=True)  #纬度，经度。 得到对应的时区\n",
    "        #print(timestamp)\n",
    "        local_time = datetime.datetime.fromtimestamp(timestamp,pytz.timezone(time_zone)).strftime('%Y-%m-%dT%H:%M:%S')\n",
    "    \n",
    "        return str(local_time)\n",
    "    \n",
    "    except:\n",
    "        return \"NA\""
   ]
  },
  {
   "cell_type": "code",
   "execution_count": 36,
   "id": "fd5d2389",
   "metadata": {
    "scrolled": false
   },
   "outputs": [
    {
     "name": "stderr",
     "output_type": "stream",
     "text": [
      "F:\\Anaconda3\\lib\\site-packages\\numpy\\core\\_asarray.py:102: VisibleDeprecationWarning: Creating an ndarray from ragged nested sequences (which is a list-or-tuple of lists-or-tuples-or ndarrays with different lengths or shapes) is deprecated. If you meant to do this, you must specify 'dtype=object' when creating the ndarray.\n",
      "  return array(a, dtype, copy=False, order=order)\n"
     ]
    },
    {
     "name": "stdout",
     "output_type": "stream",
     "text": [
      "2019-03-31T19:57:12\n"
     ]
    }
   ],
   "source": [
    "print(get_local_time(-78.853563,42.8962295,\"2019-03-31T23:57:12.000Z\"))"
   ]
  },
  {
   "cell_type": "code",
   "execution_count": null,
   "id": "f5a20ab0",
   "metadata": {},
   "outputs": [],
   "source": []
  },
  {
   "cell_type": "code",
   "execution_count": null,
   "id": "ae07e5ae",
   "metadata": {},
   "outputs": [],
   "source": [
    "#csv add local_time column\n",
    "import pandas as pd\n",
    "df= pd.read_csv(r\"Estate_level.csv\",low_memory=False) "
   ]
  },
  {
   "cell_type": "code",
   "execution_count": null,
   "id": "f486f652",
   "metadata": {},
   "outputs": [],
   "source": []
  },
  {
   "cell_type": "code",
   "execution_count": 43,
   "id": "16691171",
   "metadata": {},
   "outputs": [
    {
     "name": "stdout",
     "output_type": "stream",
     "text": [
      "9877\n",
      "NA\n",
      "21959\n",
      "NA\n",
      "30267\n",
      "NA\n",
      "42243\n",
      "NA\n",
      "69303\n",
      "NA\n"
     ]
    }
   ],
   "source": [
    "#TRY THIS\n",
    "#Recalculate the NA timezone\n",
    "pd.options.mode.chained_assignment = None\n",
    "i=0\n",
    "\n",
    "for row in df.iterrows():\n",
    "    if  str(df['local_time'][i])==\"nan\":\n",
    "        df['local_time'][i]= get_local_time(df[\"lon\"][i],df[\"lat\"][i],df[\"created_at\"][i])  \n",
    "        print(i)\n",
    "        print(df['local_time'][i])\n",
    "   \n",
    "    i+=1"
   ]
  },
  {
   "cell_type": "code",
   "execution_count": 44,
   "id": "6addfa94",
   "metadata": {},
   "outputs": [],
   "source": [
    "df.to_csv(r\"E:\\Project\\Data\\tweet_data\\3.1 FilterBBox4Level_4csv\\2.csv\",encoding=\"utf_8_sig\",index=False)"
   ]
  },
  {
   "cell_type": "code",
   "execution_count": null,
   "id": "603dc112",
   "metadata": {},
   "outputs": [],
   "source": []
  }
 ],
 "metadata": {
  "kernelspec": {
   "display_name": "Python 3",
   "language": "python",
   "name": "python3"
  },
  "language_info": {
   "codemirror_mode": {
    "name": "ipython",
    "version": 3
   },
   "file_extension": ".py",
   "mimetype": "text/x-python",
   "name": "python",
   "nbconvert_exporter": "python",
   "pygments_lexer": "ipython3",
   "version": "3.8.8"
  }
 },
 "nbformat": 4,
 "nbformat_minor": 5
}
