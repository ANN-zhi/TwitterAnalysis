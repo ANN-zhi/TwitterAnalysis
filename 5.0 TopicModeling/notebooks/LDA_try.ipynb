{
 "cells": [
  {
   "cell_type": "code",
   "execution_count": 3,
   "id": "49f90f67",
   "metadata": {},
   "outputs": [],
   "source": [
    "import gensim\n",
    "import gensim.corpora as corpora\n",
    "from gensim.corpora import Dictionary\n",
    "from gensim.models.coherencemodel import CoherenceModel\n",
    "from gensim.models.ldamodel import LdaModel\n",
    "\n",
    "from pprint import pprint\n",
    "\n",
    "import spacy\n",
    "\n",
    "import pickle\n",
    "import re \n",
    "import pyLDAvis\n",
    "import pyLDAvis.gensim\n",
    "\n",
    "import matplotlib.pyplot as plt"
   ]
  },
  {
   "cell_type": "code",
   "execution_count": 25,
   "id": "013a8272",
   "metadata": {},
   "outputs": [
    {
     "name": "stderr",
     "output_type": "stream",
     "text": [
      "F:\\Anaconda3\\lib\\site-packages\\ipykernel\\ipkernel.py:287: DeprecationWarning: `should_run_async` will not call `transform_cell` automatically in the future. Please pass the result to `transformed_cell` argument and any exception that happen during thetransform in `preprocessing_exc_tuple` in IPython 7.17 and above.\n",
      "  and should_run_async(code)\n"
     ]
    },
    {
     "data": {
      "text/html": [
       "<div>\n",
       "<style scoped>\n",
       "    .dataframe tbody tr th:only-of-type {\n",
       "        vertical-align: middle;\n",
       "    }\n",
       "\n",
       "    .dataframe tbody tr th {\n",
       "        vertical-align: top;\n",
       "    }\n",
       "\n",
       "    .dataframe thead th {\n",
       "        text-align: right;\n",
       "    }\n",
       "</style>\n",
       "<table border=\"1\" class=\"dataframe\">\n",
       "  <thead>\n",
       "    <tr style=\"text-align: right;\">\n",
       "      <th></th>\n",
       "      <th>text</th>\n",
       "      <th>lon</th>\n",
       "      <th>lat</th>\n",
       "      <th>local_time</th>\n",
       "    </tr>\n",
       "  </thead>\n",
       "  <tbody>\n",
       "    <tr>\n",
       "      <th>0</th>\n",
       "      <td>@andylassner Walmart specials</td>\n",
       "      <td>-75.386461</td>\n",
       "      <td>39.145023</td>\n",
       "      <td>2020-01-20 18:59:29</td>\n",
       "    </tr>\n",
       "    <tr>\n",
       "      <th>1</th>\n",
       "      <td>Walmart just gave me the biggest fucking attit...</td>\n",
       "      <td>-81.986834</td>\n",
       "      <td>26.636480</td>\n",
       "      <td>2020-01-20 18:56:59</td>\n",
       "    </tr>\n",
       "  </tbody>\n",
       "</table>\n",
       "</div>"
      ],
      "text/plain": [
       "                                                text        lon        lat  \\\n",
       "0                      @andylassner Walmart specials -75.386461  39.145023   \n",
       "1  Walmart just gave me the biggest fucking attit... -81.986834  26.636480   \n",
       "\n",
       "            local_time  \n",
       "0  2020-01-20 18:59:29  \n",
       "1  2020-01-20 18:56:59  "
      ]
     },
     "execution_count": 25,
     "metadata": {},
     "output_type": "execute_result"
    }
   ],
   "source": [
    "import pandas as pd\n",
    "data_dir = r'E:\\OneDrive - University of Georgia\\Project\\Data\\tweet_data_3_groccery\\4.3 FourColumns 3+1csv - Copy\\grocerry_2020.csv'\n",
    "tweets_df = pd.read_csv(data_dir) \n",
    "tweets_df.head(2)"
   ]
  },
  {
   "cell_type": "code",
   "execution_count": 26,
   "id": "705f5305",
   "metadata": {},
   "outputs": [
    {
     "name": "stderr",
     "output_type": "stream",
     "text": [
      "F:\\Anaconda3\\lib\\site-packages\\ipykernel\\ipkernel.py:287: DeprecationWarning: `should_run_async` will not call `transform_cell` automatically in the future. Please pass the result to `transformed_cell` argument and any exception that happen during thetransform in `preprocessing_exc_tuple` in IPython 7.17 and above.\n",
      "  and should_run_async(code)\n"
     ]
    }
   ],
   "source": [
    "tweets_df.to_csv(r'E:\\OneDrive - University of Georgia\\Project\\Data\\tweet_data_3_groccery\\4.3 FourColumns 3+1csv - Copy\\grocerry_2020.csv',encoding=\"utf_8_sig\",index=False)"
   ]
  },
  {
   "cell_type": "code",
   "execution_count": 9,
   "id": "4a01cbc9",
   "metadata": {},
   "outputs": [
    {
     "name": "stderr",
     "output_type": "stream",
     "text": [
      "F:\\Anaconda3\\lib\\site-packages\\ipykernel\\ipkernel.py:287: DeprecationWarning: `should_run_async` will not call `transform_cell` automatically in the future. Please pass the result to `transformed_cell` argument and any exception that happen during thetransform in `preprocessing_exc_tuple` in IPython 7.17 and above.\n",
      "  and should_run_async(code)\n"
     ]
    },
    {
     "data": {
      "text/plain": [
       "pandas.core.series.Series"
      ]
     },
     "execution_count": 9,
     "metadata": {},
     "output_type": "execute_result"
    }
   ],
   "source": [
    "type(tweets_df['clean_tweet'])"
   ]
  },
  {
   "cell_type": "code",
   "execution_count": 12,
   "id": "126527b8",
   "metadata": {},
   "outputs": [
    {
     "name": "stderr",
     "output_type": "stream",
     "text": [
      "F:\\Anaconda3\\lib\\site-packages\\ipykernel\\ipkernel.py:287: DeprecationWarning: `should_run_async` will not call `transform_cell` automatically in the future. Please pass the result to `transformed_cell` argument and any exception that happen during thetransform in `preprocessing_exc_tuple` in IPython 7.17 and above.\n",
      "  and should_run_async(code)\n"
     ]
    }
   ],
   "source": [
    "tweets = tweets_df[tweets_df['clean_tweet'].notnull()]\n",
    "tweets = tweets.clean_tweet.values.tolist()\n",
    "\n",
    "# Turn the list of string into a list of tokens\n",
    "tweets = [t.split(' ') for t in tweets]"
   ]
  },
  {
   "cell_type": "code",
   "execution_count": 13,
   "id": "862147fd",
   "metadata": {},
   "outputs": [
    {
     "name": "stderr",
     "output_type": "stream",
     "text": [
      "F:\\Anaconda3\\lib\\site-packages\\ipykernel\\ipkernel.py:287: DeprecationWarning: `should_run_async` will not call `transform_cell` automatically in the future. Please pass the result to `transformed_cell` argument and any exception that happen during thetransform in `preprocessing_exc_tuple` in IPython 7.17 and above.\n",
      "  and should_run_async(code)\n"
     ]
    },
    {
     "name": "stdout",
     "output_type": "stream",
     "text": [
      "[[(0, 1), (1, 2), (2, 1), (3, 2), (4, 1), (5, 1), (6, 1), (7, 1), (8, 1), (9, 1)]]\n"
     ]
    }
   ],
   "source": [
    "id2word = Dictionary(tweets)\n",
    "# Term Document Frequency\n",
    "corpus = [id2word.doc2bow(text) for text in tweets]\n",
    "print(corpus[:1])"
   ]
  },
  {
   "cell_type": "code",
   "execution_count": 14,
   "id": "a6648b06",
   "metadata": {},
   "outputs": [
    {
     "name": "stderr",
     "output_type": "stream",
     "text": [
      "F:\\Anaconda3\\lib\\site-packages\\ipykernel\\ipkernel.py:287: DeprecationWarning: `should_run_async` will not call `transform_cell` automatically in the future. Please pass the result to `transformed_cell` argument and any exception that happen during thetransform in `preprocessing_exc_tuple` in IPython 7.17 and above.\n",
      "  and should_run_async(code)\n"
     ]
    },
    {
     "data": {
      "text/plain": [
       "[[('bacc', 1),\n",
       "  ('blocc', 2),\n",
       "  ('gear', 1),\n",
       "  ('life', 2),\n",
       "  ('movement', 1),\n",
       "  ('run', 1),\n",
       "  ('shop', 1),\n",
       "  ('stop', 1),\n",
       "  ('support', 1),\n",
       "  ('sure', 1)]]"
      ]
     },
     "execution_count": 14,
     "metadata": {},
     "output_type": "execute_result"
    }
   ],
   "source": [
    "[[(id2word[i], freq) for i, freq in doc] for doc in corpus[:1]]"
   ]
  },
  {
   "cell_type": "code",
   "execution_count": 15,
   "id": "240f4ae5",
   "metadata": {},
   "outputs": [
    {
     "name": "stderr",
     "output_type": "stream",
     "text": [
      "F:\\Anaconda3\\lib\\site-packages\\ipykernel\\ipkernel.py:287: DeprecationWarning: `should_run_async` will not call `transform_cell` automatically in the future. Please pass the result to `transformed_cell` argument and any exception that happen during thetransform in `preprocessing_exc_tuple` in IPython 7.17 and above.\n",
      "  and should_run_async(code)\n"
     ]
    },
    {
     "name": "stdout",
     "output_type": "stream",
     "text": [
      "[(0,\n",
      "  '0.115*\"publix\" + 0.041*\"know\" + 0.027*\"food\" + 0.026*\"tell\" + 0.020*\"park\" '\n",
      "  '+ 0.017*\"free\" + 0.017*\"florida\" + 0.016*\"pick\" + 0.015*\"best\" + '\n",
      "  '0.012*\"see\"'),\n",
      " (1,\n",
      "  '0.069*\"work\" + 0.054*\"think\" + 0.045*\"look\" + 0.029*\"fuck\" + '\n",
      "  '0.029*\"supercenter\" + 0.027*\"post\" + 0.023*\"shit\" + 0.022*\"year\" + '\n",
      "  '0.022*\"boycott\" + 0.020*\"online\"'),\n",
      " (2,\n",
      "  '0.066*\"go\" + 0.046*\"people\" + 0.034*\"sell\" + 0.029*\"vaccine\" + '\n",
      "  '0.024*\"covid\" + 0.023*\"amazon\" + 0.019*\"company\" + 0.018*\"start\" + '\n",
      "  '0.017*\"better\" + 0.016*\"meijer\"'),\n",
      " (3,\n",
      "  '0.070*\"store\" + 0.059*\"foods\" + 0.031*\"aldi\" + 0.024*\"market\" + '\n",
      "  '0.022*\"right\" + 0.022*\"try\" + 0.022*\"target\" + 0.016*\"leave\" + 0.016*\"take\" '\n",
      "  '+ 0.016*\"bath\"'),\n",
      " (4,\n",
      "  '0.327*\"walmart\" + 0.025*\"grocery\" + 0.021*\"order\" + 0.019*\"walk\" + '\n",
      "  '0.016*\"money\" + 0.014*\"feel\" + 0.014*\"sign\" + 0.012*\"thing\" + 0.011*\"make\" '\n",
      "  '+ 0.010*\"things\"'),\n",
      " (5,\n",
      "  '0.133*\"kroger\" + 0.046*\"buy\" + 0.036*\"support\" + 0.030*\"line\" + '\n",
      "  '0.020*\"sure\" + 0.018*\"little\" + 0.016*\"literally\" + 0.015*\"actually\" + '\n",
      "  '0.014*\"save\" + 0.013*\"trip\"'),\n",
      " (6,\n",
      "  '0.150*\"costco\" + 0.077*\"shop\" + 0.060*\"stop\" + 0.040*\"need\" + 0.035*\"today\" '\n",
      "  '+ 0.034*\"time\" + 0.019*\"get\" + 0.015*\"help\" + 0.013*\"check\" + 0.013*\"give\"'),\n",
      " (7,\n",
      "  '0.074*\"love\" + 0.052*\"live\" + 0.045*\"wait\" + 0.041*\"place\" + 0.039*\"open\" + '\n",
      "  '0.039*\"close\" + 0.032*\"chicken\" + 0.027*\"drop\" + 0.022*\"miss\" + '\n",
      "  '0.020*\"workers\"'),\n",
      " (8,\n",
      "  '0.114*\"like\" + 0.050*\"come\" + 0.045*\"mask\" + 0.038*\"want\" + 0.035*\"say\" + '\n",
      "  '0.024*\"home\" + 0.019*\"wear\" + 0.014*\"head\" + 0.013*\"game\" + 0.013*\"city\"'),\n",
      " (9,\n",
      "  '0.106*\"good\" + 0.059*\"thank\" + 0.046*\"drive\" + 0.035*\"employees\" + '\n",
      "  '0.027*\"super\" + 0.027*\"beach\" + 0.025*\"steal\" + 0.025*\"state\" + '\n",
      "  '0.024*\"county\" + 0.023*\"employee\"')]\n"
     ]
    }
   ],
   "source": [
    "# Build LDA model\n",
    "lda_model = LdaModel(corpus=corpus,\n",
    "                   id2word=id2word,\n",
    "                   num_topics=10, \n",
    "                   random_state=0,\n",
    "                   chunksize=100,\n",
    "                   alpha='auto',\n",
    "                   per_word_topics=True)\n",
    "\n",
    "pprint(lda_model.print_topics())\n",
    "doc_lda = lda_model[corpus]"
   ]
  },
  {
   "cell_type": "code",
   "execution_count": 16,
   "id": "f7faeb59",
   "metadata": {},
   "outputs": [
    {
     "name": "stderr",
     "output_type": "stream",
     "text": [
      "F:\\Anaconda3\\lib\\site-packages\\ipykernel\\ipkernel.py:287: DeprecationWarning: `should_run_async` will not call `transform_cell` automatically in the future. Please pass the result to `transformed_cell` argument and any exception that happen during thetransform in `preprocessing_exc_tuple` in IPython 7.17 and above.\n",
      "  and should_run_async(code)\n"
     ]
    },
    {
     "name": "stdout",
     "output_type": "stream",
     "text": [
      "\\nCoherence Score:  0.3102572538970013\n"
     ]
    }
   ],
   "source": [
    "# Compute Coherence Score\n",
    "coherence_model_lda = CoherenceModel(model=lda_model, texts=tweets, dictionary=id2word, coherence='c_v')\n",
    "coherence_lda = coherence_model_lda.get_coherence()\n",
    "print('\\\\nCoherence Score: ', coherence_lda)"
   ]
  },
  {
   "cell_type": "code",
   "execution_count": 20,
   "id": "a700785c",
   "metadata": {},
   "outputs": [
    {
     "name": "stderr",
     "output_type": "stream",
     "text": [
      "F:\\Anaconda3\\lib\\site-packages\\ipykernel\\ipkernel.py:287: DeprecationWarning: `should_run_async` will not call `transform_cell` automatically in the future. Please pass the result to `transformed_cell` argument and any exception that happen during thetransform in `preprocessing_exc_tuple` in IPython 7.17 and above.\n",
      "  and should_run_async(code)\n"
     ]
    }
   ],
   "source": [
    "pyLDAvis.enable_notebook()"
   ]
  },
  {
   "cell_type": "code",
   "execution_count": null,
   "id": "b465cb9d",
   "metadata": {},
   "outputs": [],
   "source": []
  },
  {
   "cell_type": "code",
   "execution_count": null,
   "id": "bfb96263",
   "metadata": {},
   "outputs": [],
   "source": []
  }
 ],
 "metadata": {
  "kernelspec": {
   "display_name": "Python 3",
   "language": "python",
   "name": "python3"
  },
  "language_info": {
   "codemirror_mode": {
    "name": "ipython",
    "version": 3
   },
   "file_extension": ".py",
   "mimetype": "text/x-python",
   "name": "python",
   "nbconvert_exporter": "python",
   "pygments_lexer": "ipython3",
   "version": "3.8.8"
  }
 },
 "nbformat": 4,
 "nbformat_minor": 5
}
