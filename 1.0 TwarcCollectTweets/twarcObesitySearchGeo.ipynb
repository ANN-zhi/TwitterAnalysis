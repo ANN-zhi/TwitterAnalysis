{
 "cells": [
  {
   "cell_type": "code",
   "execution_count": 3,
   "id": "54feec6e",
   "metadata": {},
   "outputs": [],
   "source": [
    "#!pip3 install twarc --upgrade twarc"
   ]
  },
  {
   "cell_type": "code",
   "execution_count": null,
   "id": "4b278bd4",
   "metadata": {},
   "outputs": [],
   "source": [
    "#import twarc\n",
    "!twarc --help"
   ]
  },
  {
   "cell_type": "code",
   "execution_count": 2,
   "id": "de5ea8b0",
   "metadata": {},
   "outputs": [],
   "source": [
    "#! pip install twarc\n",
    "#!pip3 install --upgrade twarc\n",
    "#!pip3 install --upgrade twarc-csv\n",
    "import twarc"
   ]
  },
  {
   "cell_type": "markdown",
   "id": "1d035af4",
   "metadata": {},
   "source": [
    "# 1. Get the tweets"
   ]
  },
  {
   "cell_type": "code",
   "execution_count": null,
   "id": "26ef8d36",
   "metadata": {},
   "outputs": [],
   "source": [
    "!twarc2 search --archive --limit 50000000 --start-time \"2020-03-01\" --end-time \"2020-03-10\" \\\n",
    "\"(obesity) OR (#obesity) OR (obese)OR (overweight)OR (#overweight)OR(fat)OR (gain weight)OR(bmi)OR(#bmi)OR(diet)OR(#diet)OR(excercise)OR(#excercise)OR(calories)\\\n",
    "-from:username lang:en -is:retweet\" original_results_2020-03-01_2020-03-20_v2.jsonl "
   ]
  },
  {
   "cell_type": "code",
   "execution_count": null,
   "id": "62a48954",
   "metadata": {},
   "outputs": [],
   "source": [
    "#working_fastfood\n",
    "!twarc2 search --archive --limit 10000000 --start-time \"2021-01-21\" --end-time \"2022-01-21\" \\\n",
    "\"(McDonald's OR McDonalds OR Starbucks OR Starbuck's OR Chick-fil-A OR (chick fil a) OR chickfila OR (TACO BELL) OR tacobell OR WENDY'S OR wendys OR (BURGER KING) OR BURGERKING OR DUNKIN OR SUBWAY OR DOMINO'S OR DOMINOS OR CHIPOTLE) lang:en place_country:US -from:username -is:retweet\" original_obesity_2021.jsonl "
   ]
  },
  {
   "cell_type": "code",
   "execution_count": null,
   "id": "b0bcb191",
   "metadata": {},
   "outputs": [],
   "source": [
    "#working_fastfood\n",
    "!twarc2 search --archive --limit 10000000 --start-time \"2019-01-20\" --end-time \"2020-01-21\" \\\n",
    "\"(McDonald's OR McDonalds OR Starbucks OR Starbuck's OR Chick-fil-A OR (chick fil a) OR chickfila OR (TACO BELL) OR tacobell OR WENDY'S OR wendys OR (BURGER KING) OR BURGERKING OR DUNKIN OR SUBWAY OR DOMINO'S OR DOMINOS OR CHIPOTLE) lang:en place_country:US -from:username -is:retweet\" original_obesity_2019.jsonl "
   ]
  },
  {
   "cell_type": "code",
   "execution_count": null,
   "id": "fc557343",
   "metadata": {},
   "outputs": [],
   "source": [
    "#working_fastfood\n",
    "!twarc2 search --archive --limit 10000000 --start-time \"2020-01-21\" --end-time \"2021-01-21\" \\\n",
    "\"(McDonald's OR McDonalds OR Starbucks OR Starbuck's OR Chick-fil-A OR (chick fil a) OR chickfila OR (TACO BELL) OR tacobell OR WENDY'S OR wendys OR (BURGER KING) OR BURGERKING OR DUNKIN OR SUBWAY OR DOMINO'S OR DOMINOS OR CHIPOTLE) lang:en place_country:US -from:username -is:retweet\" original_obesity_2020.jsonl  "
   ]
  },
  {
   "cell_type": "code",
   "execution_count": null,
   "id": "fb630fff",
   "metadata": {},
   "outputs": [],
   "source": []
  },
  {
   "cell_type": "code",
   "execution_count": null,
   "id": "3f4af976",
   "metadata": {},
   "outputs": [],
   "source": [
    "#working_grocery \n",
    "!twarc2 search --archive --limit 10000000 --start-time \"2019-01-19\" --end-time \"2020-01-21\" \\\n",
    "\"(WALMART OR KROGER OR COSTCO OR PUBLIX OR ALBERTSONS OR (AHOLD DELHAIZE) OR (Stop \\& Shop) OR (Hannaford banners) OR (Food Lion) OR (H.E. BUTT) OR MEIJER OR WAKEFERN OR ALDI OR (WHOLE FOODS))  lang:en place_country:US -from:username -is:retweet\" original_grocery_2019.jsonl "
   ]
  },
  {
   "cell_type": "code",
   "execution_count": null,
   "id": "96693d21",
   "metadata": {},
   "outputs": [],
   "source": [
    "#working_grocery \n",
    "!twarc2 search --archive --limit 10000000 --start-time \"2020-01-21\" --end-time \"2021-01-21\" \\\n",
    "\"(WALMART OR KROGER OR COSTCO OR PUBLIX OR ALBERTSONS OR (AHOLD DELHAIZE) OR (Stop \\& Shop) OR (Hannaford banners) OR (Food Lion) OR (H.E. BUTT) OR MEIJER OR WAKEFERN OR ALDI OR (WHOLE FOODS))  lang:en place_country:US -from:username -is:retweet\" original_grocery_2020.jsonl "
   ]
  },
  {
   "cell_type": "code",
   "execution_count": null,
   "id": "0bfe6d6a",
   "metadata": {},
   "outputs": [],
   "source": [
    "#working_grocery \n",
    "!twarc2 search --archive --limit 10000000 --start-time \"2021-01-21\" --end-time \"2022-01-22\" \\\n",
    "\"(WALMART OR KROGER OR COSTCO OR PUBLIX OR ALBERTSONS OR (AHOLD DELHAIZE) OR (Stop \\& Shop) OR (Hannaford banners) OR (Food Lion) OR (H.E. BUTT) OR MEIJER OR WAKEFERN OR ALDI OR (WHOLE FOODS)) lang:en place_country:US -from:username -is:retweet\" original_grocery_2021.jsonl "
   ]
  },
  {
   "cell_type": "code",
   "execution_count": null,
   "id": "dfe0cc5d",
   "metadata": {},
   "outputs": [],
   "source": []
  },
  {
   "cell_type": "code",
   "execution_count": null,
   "id": "0e41a2a9",
   "metadata": {},
   "outputs": [],
   "source": [
    "#working1_obesity\n",
    "!twarc2 search --archive --limit 500000 --start-time \"2019-03-01\" --end-time \"2019-04-01\" \\\n",
    "--expansions \"author_id,geo.place_id,in_reply_to_user_id,referenced_tweets.id,referenced_tweets.id.author_id,entities.mentions.username\" \\\n",
    "--tweet-fields \"id,text,author_id,context_annotations,public_metrics,conversation_id,created_at,geo\" \\\n",
    "--user-fields \"created_at,id,location,name,public_metrics\" \\\n",
    "--place-fields \"contained_within,country,country_code,full_name,geo,id,name,place_type\" \\\n",
    "\"(obesity OR #obesity OR obese OR overweight OR #overweightOR fat OR (gain weight) OR bmi OR #bmi OR diet OR #diet OR excercise OR #excercise OR calories) lang:en place_country:US -from:username -is:retweet\" original_results_2019-03-01_2019-03-31.jsonl "
   ]
  },
  {
   "cell_type": "code",
   "execution_count": null,
   "id": "96c5b495",
   "metadata": {},
   "outputs": [],
   "source": [
    "#working_obesity\n",
    "!twarc2 search --archive --limit 10000000 --start-time \"2019-02-27\" --end-time \"2022-01-02\" \\\n",
    "\"(obesity OR #obesity OR obese OR overweight OR #overweight OR fat OR (gain weight) OR (lose weight) OR bmi OR #bmi) lang:en place_country:US -from:username\" original_obesity_2019-02-27_2022-01-02.jsonl "
   ]
  },
  {
   "cell_type": "code",
   "execution_count": null,
   "id": "c41378db",
   "metadata": {},
   "outputs": [],
   "source": []
  },
  {
   "cell_type": "code",
   "execution_count": null,
   "id": "fe6bfaac",
   "metadata": {
    "scrolled": true
   },
   "outputs": [],
   "source": [
    "!twarc2 search --help"
   ]
  },
  {
   "cell_type": "code",
   "execution_count": null,
   "id": "d90321b7",
   "metadata": {},
   "outputs": [],
   "source": [
    "#!twarc2 search --help\n",
    "# place_country:US\n",
    "# has:geo\n",
    "\n",
    "#(obesity) OR (#obesity) OR (obese) OR (overweight) OR (#overweight)OR (fat) OR (gain weight) OR (bmi) OR (#bmi) OR (diet) OR (#diet) OR (excercise) OR (#excercise) OR (calories)"
   ]
  },
  {
   "cell_type": "markdown",
   "id": "f7fd1d9b",
   "metadata": {},
   "source": [
    "# 2. Convert to CSV"
   ]
  },
  {
   "cell_type": "code",
   "execution_count": null,
   "id": "13cd3648",
   "metadata": {},
   "outputs": [],
   "source": [
    "!twarc2 csv original_grocery_2021.jsonl  original_grocery_2021.csv"
   ]
  },
  {
   "cell_type": "markdown",
   "id": "80851d07",
   "metadata": {},
   "source": [
    "# 3. Count the tweets"
   ]
  },
  {
   "cell_type": "markdown",
   "id": "c314bdc4",
   "metadata": {},
   "source": [
    "If you just want to count the number of tweets by day/hour"
   ]
  },
  {
   "cell_type": "code",
   "execution_count": null,
   "id": "48e4a682",
   "metadata": {
    "scrolled": true
   },
   "outputs": [],
   "source": [
    "!twarc2 counts \"about lang:en place_country:US\" --csv --granularity hour --archive --start-time \"2020-12-28\" --end-time \"2020-12-30\" > granularity_day_count1.csv"
   ]
  },
  {
   "cell_type": "code",
   "execution_count": null,
   "id": "2a71ab5c",
   "metadata": {},
   "outputs": [],
   "source": [
    "!twarc2 counts --csv --granularity hour --archive --start-time \"2020-12-28\" --end-time \"2020-12-30\" QUERY granularity_day_count.csv\n"
   ]
  },
  {
   "cell_type": "code",
   "execution_count": null,
   "id": "87a62f84",
   "metadata": {},
   "outputs": [],
   "source": [
    "!twarc2 counts --help"
   ]
  },
  {
   "cell_type": "code",
   "execution_count": null,
   "id": "88e97a2d",
   "metadata": {},
   "outputs": [],
   "source": []
  },
  {
   "cell_type": "markdown",
   "id": "7e14d11b",
   "metadata": {},
   "source": [
    "# 4. Flatten the json file  "
   ]
  },
  {
   "cell_type": "markdown",
   "id": "9824170e",
   "metadata": {},
   "source": [
    "This means to put each tweet in a line, instead of a whole json structure:"
   ]
  },
  {
   "cell_type": "code",
   "execution_count": null,
   "id": "2cc9befe",
   "metadata": {},
   "outputs": [],
   "source": [
    "!twarc2 flatten original_results_2019-03-01_2019-03-10.jsonl search_flatten.jsonl"
   ]
  },
  {
   "cell_type": "code",
   "execution_count": null,
   "id": "6b3429e4",
   "metadata": {},
   "outputs": [],
   "source": [
    "!twarc2 stream-rules list"
   ]
  },
  {
   "cell_type": "code",
   "execution_count": null,
   "id": "ce77d411",
   "metadata": {},
   "outputs": [],
   "source": [
    "import pandas as pd"
   ]
  },
  {
   "cell_type": "code",
   "execution_count": null,
   "id": "430de2f3",
   "metadata": {},
   "outputs": [],
   "source": [
    "df= pd.read_csv(\"original_results_2020-03-10_2020-03-10.csv\")"
   ]
  },
  {
   "cell_type": "code",
   "execution_count": null,
   "id": "f9a4c7fa",
   "metadata": {},
   "outputs": [],
   "source": [
    "df"
   ]
  },
  {
   "cell_type": "code",
   "execution_count": null,
   "id": "ca5481aa",
   "metadata": {},
   "outputs": [],
   "source": []
  }
 ],
 "metadata": {
  "kernelspec": {
   "display_name": "Python 3 (ipykernel)",
   "language": "python",
   "name": "python3"
  },
  "language_info": {
   "codemirror_mode": {
    "name": "ipython",
    "version": 3
   },
   "file_extension": ".py",
   "mimetype": "text/x-python",
   "name": "python",
   "nbconvert_exporter": "python",
   "pygments_lexer": "ipython3",
   "version": "3.9.7"
  }
 },
 "nbformat": 4,
 "nbformat_minor": 5
}
