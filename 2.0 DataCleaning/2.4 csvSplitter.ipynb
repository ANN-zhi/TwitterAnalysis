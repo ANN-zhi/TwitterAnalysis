{
 "cells": [
  {
   "cell_type": "markdown",
   "id": "080bde60",
   "metadata": {},
   "source": [
    "# CSV Splitter"
   ]
  },
  {
   "cell_type": "code",
   "execution_count": 3,
   "id": "f517bc66",
   "metadata": {},
   "outputs": [],
   "source": [
    "#csv file name to be read in \n",
    "in_csv = \"fastFoodResturant_bboxStateLevel_localTime2020_1.csv\"\n",
    "\n",
    "#size of rows of data to write to the csv, \n",
    "#you can change the row size according to your need\n",
    "rowsize = 100000"
   ]
  },
  {
   "cell_type": "code",
   "execution_count": 5,
   "id": "ce4e1d7e",
   "metadata": {},
   "outputs": [
    {
     "name": "stdout",
     "output_type": "stream",
     "text": [
      "total lines: 419125\n",
      "rowsize: 100000\n"
     ]
    },
    {
     "name": "stderr",
     "output_type": "stream",
     "text": [
      "F:\\Anaconda3\\lib\\site-packages\\IPython\\core\\interactiveshell.py:3437: DtypeWarning: Columns (26) have mixed types.Specify dtype option on import or set low_memory=False.\n",
      "  exec(code_obj, self.user_global_ns, self.user_ns)\n"
     ]
    }
   ],
   "source": [
    "import pandas as pd\n",
    "\n",
    "df=pd.read_csv(in_csv,low_memory=False)\n",
    "#get the number of lines of the csv file to be read\n",
    "#number_lines = sum(1 for row in df)\n",
    "df_header=df.head(0)\n",
    "\n",
    "number_lines = df.shape[0]\n",
    "print(\"total lines:\", number_lines)\n",
    "print(\"rowsize:\", rowsize)\n",
    "\n",
    "#(2,291254,100000 )\n",
    "#start looping through data writing it to a new file for each set\n",
    "for i in range(1,number_lines,rowsize):\n",
    "    df_chunk = pd.read_csv(in_csv,header=None,\n",
    "        nrows = rowsize,#number of rows to read at each loop\n",
    "        skiprows = i)#skip rows that have been read\n",
    "    \n",
    "    #df_out = pd.concat([df_header, df_chunk], axis=0)\n",
    "    \n",
    "    #csv to write data to a new file with indexed name. input_1.csv etc.\n",
    "    out_csv = 'input' + str(i) + '.csv'\n",
    "    \n",
    "    df_header.to_csv(out_csv,\n",
    "          index=False,\n",
    "          header=True,\n",
    "          mode='a',#append data to csv file\n",
    "          chunksize=rowsize,\n",
    "          encoding=\"utf_8_sig\")\n",
    "    \n",
    "    df_chunk.to_csv(out_csv,\n",
    "          index=False,\n",
    "          header=False,\n",
    "          mode='a',#append data to csv file\n",
    "          chunksize=rowsize,\n",
    "          encoding=\"utf_8_sig\")#size of data to append for each loop\n"
   ]
  },
  {
   "cell_type": "code",
   "execution_count": null,
   "id": "1aff5ec0",
   "metadata": {},
   "outputs": [],
   "source": []
  }
 ],
 "metadata": {
  "kernelspec": {
   "display_name": "Python 3",
   "language": "python",
   "name": "python3"
  },
  "language_info": {
   "codemirror_mode": {
    "name": "ipython",
    "version": 3
   },
   "file_extension": ".py",
   "mimetype": "text/x-python",
   "name": "python",
   "nbconvert_exporter": "python",
   "pygments_lexer": "ipython3",
   "version": "3.8.8"
  }
 },
 "nbformat": 4,
 "nbformat_minor": 5
}
