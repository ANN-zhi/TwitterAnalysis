{
 "cells": [
  {
   "cell_type": "code",
   "execution_count": null,
   "id": "83278d38",
   "metadata": {
    "slideshow": {
     "slide_type": "slide"
    }
   },
   "outputs": [],
   "source": [
    "import pandas as pd\n",
    "import os"
   ]
  },
  {
   "cell_type": "code",
   "execution_count": null,
   "id": "182f1a07",
   "metadata": {},
   "outputs": [],
   "source": [
    "df=pd.read_csv(r'E:\\OneDrive - University of Georgia\\Project\\Data\\tweet_data_3_groccery\\1.3 groccery_CSV_3years_clean\\original_grocery_2021.csv',encoding='utf-8-#sig',low_memory=False)\n",
    "#df.info(verbose=True)"
   ]
  },
  {
   "cell_type": "code",
   "execution_count": null,
   "id": "3b37687f",
   "metadata": {},
   "outputs": [],
   "source": [
    "#sample\n",
    "df=pd.read_csv(r'E:\\OneDrive - University of Georgia\\Project\\Data\\tweet_data_2_food\\2.1 3years_XY\\SAMPLE.csv',encoding='utf-8-#sig',low_memory=False)"
   ]
  },
  {
   "cell_type": "markdown",
   "id": "45d36d76",
   "metadata": {},
   "source": [
    "column: geo.geo.bbox\n",
    "sample: [-97.129669, 32.8785707, -97.029639, 32.985097]\n",
    "lon_min,lat_min,lon_max,lat_max"
   ]
  },
  {
   "cell_type": "code",
   "execution_count": null,
   "id": "af50c40c",
   "metadata": {},
   "outputs": [],
   "source": [
    "#split bbox\n",
    "i=0    \n",
    "df[\"lon_min\"]=0\n",
    "df[\"lat_min\"]=0\n",
    "df[\"lon_max\"]=0\n",
    "df[\"lat_max\"]=0\n",
    "df[\"geo.geo.bbox\"]=df[\"geo.geo.bbox\"].astype(str)\n",
    "\n",
    "for value in df[\"geo.geo.bbox\"]:\n",
    "    print(\"i\",i)\n",
    "    bboxList=value.split(\",\")\n",
    "\n",
    "    print(bboxList)\n",
    "    if len(bboxList)==4:\n",
    "        df[\"lon_min\"][i]=bboxList[0][1:]\n",
    "        df[\"lat_min\"][i]=bboxList[1][1:]\n",
    "        df[\"lon_max\"][i]=bboxList[2][1:]\n",
    "        df[\"lat_max\"][i]=bboxList[3][1:-1]\n",
    "    print(df[\"lon_min\"][i],df[\"lat_min\"][i],df[\"lon_max\"][i], df[\"lat_max\"][i])\n",
    "    i=i+1"
   ]
  },
  {
   "cell_type": "code",
   "execution_count": null,
   "id": "bdde5a69",
   "metadata": {},
   "outputs": [],
   "source": [
    "#convert type object to float64\n",
    "df[\"lon_min\"]=df[\"lon_min\"].astype(float)\n",
    "df[\"lat_min\"]=df[\"lat_min\"].astype(float)\n",
    "df[\"lon_max\"]=df[\"lon_max\"].astype(float)\n",
    "df[\"lat_max\"]=df[\"lat_max\"].astype(float)\n",
    "\n",
    "#df.info(verbose=True)"
   ]
  },
  {
   "cell_type": "code",
   "execution_count": null,
   "id": "f05dffe7",
   "metadata": {},
   "outputs": [],
   "source": [
    "# dif\n",
    "df['lon_dif']=df[\"lon_max\"]-df[\"lon_min\"]\n",
    "df['lat_dif']=df[\"lat_max\"]-df[\"lat_min\"]"
   ]
  },
  {
   "cell_type": "code",
   "execution_count": null,
   "id": "eedeb81b",
   "metadata": {},
   "outputs": [],
   "source": [
    "#pd.set_option('display.max_columns', None)\n",
    "#df"
   ]
  },
  {
   "cell_type": "code",
   "execution_count": null,
   "id": "9dcb17dc",
   "metadata": {},
   "outputs": [],
   "source": [
    "#lon,lat\n",
    "df[\"lon\"]=(df[\"lon_max\"]+df[\"lon_min\"])/2\n",
    "df[\"lat\"]=(df[\"lat_max\"]+df[\"lat_min\"])/2"
   ]
  },
  {
   "cell_type": "code",
   "execution_count": null,
   "id": "929809dd",
   "metadata": {},
   "outputs": [],
   "source": [
    "#save to csv\n",
    "df.to_csv(r\"E:\\OneDrive - University of Georgia\\Project\\Data\\tweet_data_3_groccery\\2.1 grocery_3years_XY\\grocery_xy_2021.csv\",encoding='utf-8-sig')"
   ]
  },
  {
   "cell_type": "code",
   "execution_count": null,
   "id": "173a3e9b",
   "metadata": {},
   "outputs": [],
   "source": [
    "#df.info(verbose=True)\n",
    "df"
   ]
  },
  {
   "cell_type": "code",
   "execution_count": null,
   "id": "308969da",
   "metadata": {},
   "outputs": [],
   "source": []
  }
 ],
 "metadata": {
  "kernelspec": {
   "display_name": "Python 3",
   "language": "python",
   "name": "python3"
  },
  "language_info": {
   "codemirror_mode": {
    "name": "ipython",
    "version": 3
   },
   "file_extension": ".py",
   "mimetype": "text/x-python",
   "name": "python",
   "nbconvert_exporter": "python",
   "pygments_lexer": "ipython3",
   "version": "3.8.8"
  }
 },
 "nbformat": 4,
 "nbformat_minor": 5
}
