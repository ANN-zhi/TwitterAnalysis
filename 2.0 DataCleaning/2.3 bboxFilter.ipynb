{
 "cells": [
  {
   "cell_type": "markdown",
   "id": "3a7f47ed",
   "metadata": {},
   "source": [
    "### bbox"
   ]
  },
  {
   "cell_type": "code",
   "execution_count": null,
   "id": "489bed47",
   "metadata": {},
   "outputs": [],
   "source": [
    "import pandas as pd\n",
    "import os\n",
    "df=pd.read_csv(r'E:\\Project\\Data\\tweet_data\\2.1 Combine24Month_1csv\\geo_US_-retweet_2019-03_2021-02_bbox_3.csv',encoding='utf-8-sig',low_memory=False)\n",
    "df.head(4)\n",
    "df['lon_dif'] = pd.to_numeric(df['lon_dif'],errors = 'coerce')\n",
    "df.to_csv(r'E:\\Project\\Data\\tweet_data\\2.1 Combine24Month_1csv\\geo_US_-retweet_2019-03_2021-02_bbox_3.csv',encoding='utf-8-sig')\n",
    "print(df.dtypes)"
   ]
  },
  {
   "cell_type": "markdown",
   "id": "6f55fd88",
   "metadata": {},
   "source": [
    "# -- Filter the bbox based on different threshold  "
   ]
  },
  {
   "cell_type": "code",
   "execution_count": 1,
   "id": "1c7db53b",
   "metadata": {},
   "outputs": [],
   "source": [
    "#function to calculate the threshold of lon and lat given the land area, unit square miles\n",
    "import math\n",
    "def getLonLatThreFromArea(averageArea) :\n",
    "    PI = 3.14159265\n",
    "    radius = math.sqrt(averageArea/PI)\n",
    "    \n",
    "    #One degree of latitude equals approximately 364,000 feet (69 miles)\n",
    "    lonThre = radius/69\n",
    "    #One-degree of longitude equals 288,200 feet (54.6 miles)\n",
    "    lonLat = radius/54.6\n",
    "    return lonThre,lonLat"
   ]
  },
  {
   "cell_type": "markdown",
   "id": "7067cf23",
   "metadata": {},
   "source": [
    "## 1. State-level \n",
    "### 63,142 square miles\n",
    "Average land area of each state is 63,142 square miles = 163537.029 squre km"
   ]
  },
  {
   "cell_type": "code",
   "execution_count": 2,
   "id": "698a8c89",
   "metadata": {},
   "outputs": [
    {
     "data": {
      "text/plain": [
       "2.054637167793814"
      ]
     },
     "execution_count": 2,
     "metadata": {},
     "output_type": "execute_result"
    }
   ],
   "source": [
    "stateLonThreshold= getLonLatThreFromArea(63142)[0]\n",
    "stateLonThreshold"
   ]
  },
  {
   "cell_type": "code",
   "execution_count": 3,
   "id": "e59763dd",
   "metadata": {},
   "outputs": [
    {
     "data": {
      "text/plain": [
       "2.5965194977614128"
      ]
     },
     "execution_count": 3,
     "metadata": {},
     "output_type": "execute_result"
    }
   ],
   "source": [
    "stateLatThreshold= getLonLatThreFromArea(63142)[1]\n",
    "stateLatThreshold"
   ]
  },
  {
   "cell_type": "markdown",
   "id": "ba0cb9ce",
   "metadata": {
    "slideshow": {
     "slide_type": "slide"
    }
   },
   "source": [
    "## 2. County-level  \n",
    "### 3,618,780 sq miles\n",
    "There're 3,006 counties in the U.S. With the area of the U.S. at 3,618,780 sq miles, that makes the average land area per county about 1203.8523 sq miles"
   ]
  },
  {
   "cell_type": "code",
   "execution_count": 4,
   "id": "6a21e0ac",
   "metadata": {},
   "outputs": [
    {
     "data": {
      "text/plain": [
       "0.28370211702814496"
      ]
     },
     "execution_count": 4,
     "metadata": {},
     "output_type": "execute_result"
    }
   ],
   "source": [
    "countyLonThreshold= getLonLatThreFromArea(1203.8523)[0]\n",
    "countyLonThreshold"
   ]
  },
  {
   "cell_type": "code",
   "execution_count": 5,
   "id": "a95b258f",
   "metadata": {},
   "outputs": [
    {
     "data": {
      "text/plain": [
       "0.3585246533872162"
      ]
     },
     "execution_count": 5,
     "metadata": {},
     "output_type": "execute_result"
    }
   ],
   "source": [
    "countyLatThreshold= getLonLatThreFromArea(1203.8523)[1]\n",
    "countyLatThreshold"
   ]
  },
  {
   "cell_type": "markdown",
   "id": "e383a23d",
   "metadata": {},
   "source": [
    "## 3.1 Zip code-level \n",
    "### 82.25 sq miles\n",
    "There're 44,000 five-digit ZIP codes in use in the U.S. With the area of the U.S. at 3,618,780 sq miles, that makes the average land area per ZIP code about 82.25 sq miles, but ZIP codes are based on population, not geography"
   ]
  },
  {
   "cell_type": "code",
   "execution_count": 6,
   "id": "58788384",
   "metadata": {},
   "outputs": [
    {
     "data": {
      "text/plain": [
       "0.07415559544185205"
      ]
     },
     "execution_count": 6,
     "metadata": {},
     "output_type": "execute_result"
    }
   ],
   "source": [
    "zipCodeLonThreshold= getLonLatThreFromArea(82.25)[0]\n",
    "zipCodeLonThreshold"
   ]
  },
  {
   "cell_type": "code",
   "execution_count": 7,
   "id": "da25eac1",
   "metadata": {},
   "outputs": [
    {
     "data": {
      "text/plain": [
       "0.09371311511882402"
      ]
     },
     "execution_count": 7,
     "metadata": {},
     "output_type": "execute_result"
    }
   ],
   "source": [
    "zipCodeLatThreshold= getLonLatThreFromArea(82.25)[1]\n",
    "zipCodeLatThreshold"
   ]
  },
  {
   "cell_type": "markdown",
   "id": "2f096164",
   "metadata": {},
   "source": [
    "## 3.2 Census tract-level\n",
    "### 49.5336518 sq miles sq miles\n",
    "There're 73,057 census tracts in use in the U.S. With the area of the U.S. at 3,618,780 sq miles, that makes the average land area per census tract about 49.5336518 sq miles, but ZIP codes are based on population, not geography"
   ]
  },
  {
   "cell_type": "code",
   "execution_count": 8,
   "id": "ef492fff",
   "metadata": {},
   "outputs": [
    {
     "data": {
      "text/plain": [
       "0.057547458264347616"
      ]
     },
     "execution_count": 8,
     "metadata": {},
     "output_type": "execute_result"
    }
   ],
   "source": [
    "censusTractLonThreshold= getLonLatThreFromArea(49.5336518)[0]\n",
    "censusTractLonThreshold"
   ]
  },
  {
   "cell_type": "code",
   "execution_count": 9,
   "id": "f9e758fb",
   "metadata": {},
   "outputs": [
    {
     "data": {
      "text/plain": [
       "0.07272480989450524"
      ]
     },
     "execution_count": 9,
     "metadata": {},
     "output_type": "execute_result"
    }
   ],
   "source": [
    "censusTractLatThreshold= getLonLatThreFromArea(49.5336518)[1]\n",
    "censusTractLatThreshold"
   ]
  },
  {
   "cell_type": "markdown",
   "id": "966e5b91",
   "metadata": {},
   "source": [
    "# Filter\n",
    "## 1. State-level\n",
    "284677 rows -> 245143 rows --86.112682%"
   ]
  },
  {
   "cell_type": "code",
   "execution_count": 22,
   "id": "a53d0914",
   "metadata": {},
   "outputs": [],
   "source": [
    "import pandas as pd\n",
    "df=pd.read_csv(r'E:\\OneDrive - University of Georgia\\Project\\Data\\tweet_data_3_groccery\\2.1 grocery_3years_XY\\grocery_xy_2021.csv',encoding='utf-8-sig',low_memory=False)\n",
    "df1=df[df['lon_dif']<=2.054637167793814]\n",
    "df2=df1[df1['lat_dif']<=2.5965194977614128]\n",
    "df2.to_csv(r'E:\\OneDrive - University of Georgia\\Project\\Data\\tweet_data_3_groccery\\3.1 grocery_FilterBBox2Level_6csv\\groceryStore_bboxStateLevel_2021.csv',encoding='utf-8-sig')"
   ]
  },
  {
   "cell_type": "markdown",
   "id": "92f83da6",
   "metadata": {},
   "source": [
    "## 2. County-level\n",
    "284677 rows -> 176932 rows --62.151842%"
   ]
  },
  {
   "cell_type": "code",
   "execution_count": 23,
   "id": "fb15378d",
   "metadata": {},
   "outputs": [],
   "source": [
    "df=pd.read_csv(r'E:\\OneDrive - University of Georgia\\Project\\Data\\tweet_data_3_groccery\\2.1 grocery_3years_XY\\grocery_xy_2021.csv',encoding='utf-8-sig',low_memory=False)\n",
    "df1=df[df['lon_dif']<=countyLonThreshold]\n",
    "df2=df1[df1['lat_dif']<=countyLatThreshold]\n",
    "df2.to_csv(r'E:\\OneDrive - University of Georgia\\Project\\Data\\tweet_data_3_groccery\\3.1 grocery_FilterBBox2Level_6csv\\groceryStore_bboxCountyLevel_2021.csv',encoding='utf-8-sig')"
   ]
  },
  {
   "cell_type": "markdown",
   "id": "c2a9d715",
   "metadata": {},
   "source": [
    "## 3.1 Zip code-level\n",
    "284677 rows -> 42598 rows --14.963%"
   ]
  },
  {
   "cell_type": "code",
   "execution_count": null,
   "id": "f50ba69f",
   "metadata": {},
   "outputs": [],
   "source": [
    "df=pd.read_csv(r'E:\\PY\\tweetsAaylisis\\clean_2019-03_2021-02_bbox.csv',encoding='utf-8-sig',low_memory=False)\n",
    "df1=df[df['lon_dif']<=zipCodeLonThreshold]\n",
    "df2=df1[df1['lat_dif']<=zipCodeLatThreshold]\n",
    "df2.to_csv(r'E:\\PY\\tweetsAaylisis\\clean_2019-03_2021-02_bbox_zipcode_level.csv',encoding='utf-8-sig')"
   ]
  },
  {
   "cell_type": "markdown",
   "id": "28b8470f",
   "metadata": {},
   "source": [
    "## 3.2 Census tract-level\n",
    "284677 rows -> 42598 rows --14.96362544%"
   ]
  },
  {
   "cell_type": "code",
   "execution_count": null,
   "id": "a0545c16",
   "metadata": {},
   "outputs": [],
   "source": [
    "df=pd.read_csv(r'E:\\PY\\tweetsAaylisis\\clean_2019-03_2021-02_bbox.csv',encoding='utf-8-sig',low_memory=False)\n",
    "df1=df[df['lon_dif']<=zipCodeLonThreshold]\n",
    "df2=df1[df1['lat_dif']<=zipCodeLatThreshold]\n",
    "df2.to_csv(r'E:\\PY\\tweetsAaylisis\\clean_2019-03_2021-02_bbox_censustract_level.csv',encoding='utf-8-sig')"
   ]
  }
 ],
 "metadata": {
  "kernelspec": {
   "display_name": "Python 3",
   "language": "python",
   "name": "python3"
  },
  "language_info": {
   "codemirror_mode": {
    "name": "ipython",
    "version": 3
   },
   "file_extension": ".py",
   "mimetype": "text/x-python",
   "name": "python",
   "nbconvert_exporter": "python",
   "pygments_lexer": "ipython3",
   "version": "3.8.8"
  }
 },
 "nbformat": 4,
 "nbformat_minor": 5
}
