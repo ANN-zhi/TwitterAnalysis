{
 "cells": [
  {
   "cell_type": "code",
   "execution_count": 1,
   "id": "83278d38",
   "metadata": {
    "slideshow": {
     "slide_type": "slide"
    }
   },
   "outputs": [],
   "source": [
    "import pandas as pd\n",
    "import os"
   ]
  },
  {
   "cell_type": "code",
   "execution_count": null,
   "id": "036fdc1b-d226-41d1-b5aa-2da1063cf4f2",
   "metadata": {},
   "outputs": [],
   "source": []
  },
  {
   "cell_type": "code",
   "execution_count": null,
   "id": "69cf15f1-ac4b-4756-aeba-9b9e7056c7c8",
   "metadata": {},
   "outputs": [],
   "source": []
  },
  {
   "cell_type": "code",
   "execution_count": null,
   "id": "c6bf9b68-427e-4c7d-95e2-2f16f94c2f88",
   "metadata": {},
   "outputs": [],
   "source": []
  },
  {
   "cell_type": "code",
   "execution_count": null,
   "id": "dbaa15b0",
   "metadata": {},
   "outputs": [],
   "source": [
    "# read all csv in one folder\n",
    "#add a colomn to add month info\n",
    "for info in os.listdir(r'E:\\OneDrive - University of Georgia\\Project\\Data\\tweet_data_2_food\\4.2 LocaTime 1 csv'):\n",
    "    domain = os.path.abspath(r'E:\\OneDrive - University of Georgia\\Project\\Data\\tweet_data_2_food\\2020') #获取文件夹的路径\n",
    "    info_full = os.path.join(domain,info) #将路径与文件名结合起来就是每个文件的完整路径  \n",
    "    df = pd.read_csv(info_full,encoding='utf-8-sig',low_memory=False)\n",
    "    #删空列\n",
    "    #df = df.dropna(axis=1)\n",
    "\n",
    "    df.dropna(axis=1,how='all') \n",
    "    df['Month'] =info[-11:-4]\n",
    "    #save\n",
    "    #print(df)\n",
    "    df.to_csv(info,encoding='utf-8-sig')\n",
    "    print(info)\n"
   ]
  },
  {
   "cell_type": "code",
   "execution_count": 2,
   "id": "7023461d",
   "metadata": {},
   "outputs": [],
   "source": [
    "#Description:使用Pandas拼接多个CSV文件到一个文件（即合并）\n",
    "Folder_Path = r'E:\\OneDrive - University of Georgia\\Project\\Data\\tweet_data_2_food\\4.2 LocaTime 1 csv'          #要拼接的文件夹及其完整路径，注意不要包含中文\n",
    "SaveFile_Path =  r'E:\\OneDrive - University of Georgia\\Project\\Data\\tweet_data_2_food\\4.2 LocaTime 1 csv'       #拼接后要保存的文件路径\n",
    "SaveFile_Name = r'fastFood_2019_2021_localTime_stateLevel.csv'              #合并后要保存的文件名\n",
    " \n",
    "#修改当前工作目录\n",
    "os.chdir(Folder_Path)\n",
    "#将该文件夹下的所有文件名存入一个列表\n",
    "file_list = os.listdir()\n",
    " \n",
    "#读取第一个CSV文件并包含表头\n",
    "df = pd.read_csv(Folder_Path +'\\\\'+ file_list[0],encoding='utf-8-sig',low_memory=False)   #编码默认UTF-8，若乱码自行更改\n",
    " \n",
    "#将读取的第一个CSV文件写入合并后的文件保存\n",
    "df.to_csv(SaveFile_Path+'\\\\'+ SaveFile_Name,encoding=\"utf_8_sig\",index=False)\n",
    " \n",
    "#循环遍历列表中各个CSV文件名，并追加到合并后的文件\n",
    "for i in range(1,len(file_list)):\n",
    "    df = pd.read_csv(Folder_Path + '\\\\'+ file_list[i],low_memory=False)\n",
    "    df.to_csv(SaveFile_Path+'\\\\'+ SaveFile_Name,encoding=\"utf_8_sig\",index=False, header=True, mode='a+')\n"
   ]
  },
  {
   "cell_type": "code",
   "execution_count": null,
   "id": "929809dd",
   "metadata": {},
   "outputs": [],
   "source": [
    "#delete geo column==NA row\n",
    "#df1 = pd.read_csv('geo_US_-retweet_2019-03-01_2019-03-31.csv',encoding='utf-8-sig')\n",
    "df= pd.read_csv(r\"E:\\OneDrive - University of Georgia\\Project\\Data\\tweet_data_3_groccery\\1\\original_grocery_2021_1.csv\",low_memory=False,skip_blank_lines=True)\n",
    "\n",
    "#df[df['geo.place_id'].notna()]\n",
    "new=df[df['geo.place_id'].notna()]\n",
    "new.to_csv(r\"E:\\OneDrive - University of Georgia\\Project\\Data\\tweet_data_3_groccery\\1.3 groccery_CSV_3years_clean\\original_grocery_2021.csv\",encoding='utf-8-sig')"
   ]
  },
  {
   "cell_type": "code",
   "execution_count": null,
   "id": "1de5675d",
   "metadata": {},
   "outputs": [],
   "source": [
    "new"
   ]
  },
  {
   "cell_type": "code",
   "execution_count": null,
   "id": "1f50d835",
   "metadata": {},
   "outputs": [],
   "source": []
  },
  {
   "cell_type": "code",
   "execution_count": null,
   "id": "b4382e9e",
   "metadata": {},
   "outputs": [],
   "source": [
    "df=pd.read_csv(r'E:\\OneDrive - University of Georgia\\Project\\Data\\tweet_data_3_groccery\\4.2 LocalTime 3CSV\\grocery_2019_2021_localTime_stateLevel.csv',encoding='utf-8-#sig',low_memory=False)"
   ]
  },
  {
   "cell_type": "code",
   "execution_count": null,
   "id": "c41c0caa",
   "metadata": {},
   "outputs": [],
   "source": [
    "pd.set_option('display.max_columns', None)\n",
    "df"
   ]
  },
  {
   "cell_type": "code",
   "execution_count": null,
   "id": "fdd26780",
   "metadata": {
    "scrolled": true
   },
   "outputs": [],
   "source": [
    "print(df.dtypes)"
   ]
  },
  {
   "cell_type": "code",
   "execution_count": null,
   "id": "c6f0f470",
   "metadata": {
    "slideshow": {
     "slide_type": "subslide"
    }
   },
   "outputs": [],
   "source": [
    "df.head(219275)"
   ]
  },
  {
   "cell_type": "markdown",
   "id": "080bde60",
   "metadata": {},
   "source": [
    "# 处理单个文件"
   ]
  },
  {
   "cell_type": "code",
   "execution_count": 36,
   "id": "88ab0ed3",
   "metadata": {},
   "outputs": [],
   "source": [
    "import csv\n",
    "import pandas as pd\n",
    "df= pd.read_csv(r\"E:\\OneDrive - University of Georgia\\Project\\Data\\tweet_data_2_food\\4.2 LocaTime 1 csv - Copy\\fastFood_2019_2021_localTime_stateLevel.csv\",low_memory=False,skip_blank_lines=True)"
   ]
  },
  {
   "cell_type": "code",
   "execution_count": 23,
   "id": "69008a63",
   "metadata": {},
   "outputs": [],
   "source": [
    "df= pd.read_csv(r\"E:\\OneDrive - University of Georgia\\Project\\Data\\tweet_data_3_groccery\\4.2 LocalTime 1CSV - Copy\\grocery_2019_2021_localTime_stateLevel.csv\",low_memory=False,skip_blank_lines=True)"
   ]
  },
  {
   "cell_type": "code",
   "execution_count": 3,
   "id": "6fa17b7d",
   "metadata": {
    "scrolled": true
   },
   "outputs": [],
   "source": [
    "pd.set_option(\"display.max_columns\", None)"
   ]
  },
  {
   "cell_type": "code",
   "execution_count": 42,
   "id": "a703e77f",
   "metadata": {},
   "outputs": [],
   "source": [
    "df1=df"
   ]
  },
  {
   "cell_type": "code",
   "execution_count": 44,
   "id": "1d2e929b",
   "metadata": {},
   "outputs": [
    {
     "data": {
      "text/html": [
       "<div>\n",
       "<style scoped>\n",
       "    .dataframe tbody tr th:only-of-type {\n",
       "        vertical-align: middle;\n",
       "    }\n",
       "\n",
       "    .dataframe tbody tr th {\n",
       "        vertical-align: top;\n",
       "    }\n",
       "\n",
       "    .dataframe thead th {\n",
       "        text-align: right;\n",
       "    }\n",
       "</style>\n",
       "<table border=\"1\" class=\"dataframe\">\n",
       "  <thead>\n",
       "    <tr style=\"text-align: right;\">\n",
       "      <th></th>\n",
       "      <th>text</th>\n",
       "      <th>lon</th>\n",
       "      <th>lat</th>\n",
       "      <th>local_time</th>\n",
       "    </tr>\n",
       "  </thead>\n",
       "  <tbody>\n",
       "    <tr>\n",
       "      <th>0</th>\n",
       "      <td>@DoctorHenryCT Friends don't let friends get c...</td>\n",
       "      <td>-122.295649</td>\n",
       "      <td>37.838550</td>\n",
       "      <td>2022-01-20T23:24:24</td>\n",
       "    </tr>\n",
       "    <tr>\n",
       "      <th>1</th>\n",
       "      <td>Finally hit Seattle’s Starbucks Reserve. It wa...</td>\n",
       "      <td>-122.328289</td>\n",
       "      <td>47.614044</td>\n",
       "      <td>2022-01-20T23:18:01</td>\n",
       "    </tr>\n",
       "    <tr>\n",
       "      <th>2</th>\n",
       "      <td>Thanks for the memories @starbucks. It’s been ...</td>\n",
       "      <td>-122.330602</td>\n",
       "      <td>47.614817</td>\n",
       "      <td>2022-01-20T22:33:15</td>\n",
       "    </tr>\n",
       "    <tr>\n",
       "      <th>3</th>\n",
       "      <td>I am so  close to the mcdonald's here I can su...</td>\n",
       "      <td>-119.025163</td>\n",
       "      <td>35.346901</td>\n",
       "      <td>2022-01-20T22:32:22</td>\n",
       "    </tr>\n",
       "    <tr>\n",
       "      <th>4</th>\n",
       "      <td>Domino's bought $100,000 of local restaurants'...</td>\n",
       "      <td>-122.630908</td>\n",
       "      <td>45.536402</td>\n",
       "      <td>2022-01-20T22:31:31</td>\n",
       "    </tr>\n",
       "    <tr>\n",
       "      <th>...</th>\n",
       "      <td>...</td>\n",
       "      <td>...</td>\n",
       "      <td>...</td>\n",
       "      <td>...</td>\n",
       "    </tr>\n",
       "    <tr>\n",
       "      <th>1317795</th>\n",
       "      <td>@aobrien7 @tacobell Always yes</td>\n",
       "      <td>-73.968542</td>\n",
       "      <td>40.780709</td>\n",
       "      <td>2020-01-20T19:05:10</td>\n",
       "    </tr>\n",
       "    <tr>\n",
       "      <th>1317796</th>\n",
       "      <td>I’m about to smoke eat Taco Bell and play Mine...</td>\n",
       "      <td>-123.095999</td>\n",
       "      <td>44.631133</td>\n",
       "      <td>2020-01-20T16:04:42</td>\n",
       "    </tr>\n",
       "    <tr>\n",
       "      <th>1317797</th>\n",
       "      <td>Like our business? Review us on Google+ and ge...</td>\n",
       "      <td>-87.776914</td>\n",
       "      <td>42.103623</td>\n",
       "      <td>2020-01-20T18:02:57</td>\n",
       "    </tr>\n",
       "    <tr>\n",
       "      <th>1317798</th>\n",
       "      <td>Burritos for the arts - what could be better! ...</td>\n",
       "      <td>-88.014413</td>\n",
       "      <td>41.808188</td>\n",
       "      <td>2020-01-20T18:02:47</td>\n",
       "    </tr>\n",
       "    <tr>\n",
       "      <th>1317799</th>\n",
       "      <td>😋😋😋😋\\n\\nEggs: scrambies w/ spinach\\nSteak: ehh...</td>\n",
       "      <td>-111.880240</td>\n",
       "      <td>40.688518</td>\n",
       "      <td>2020-01-20T17:00:21</td>\n",
       "    </tr>\n",
       "  </tbody>\n",
       "</table>\n",
       "<p>1317800 rows × 4 columns</p>\n",
       "</div>"
      ],
      "text/plain": [
       "                                                      text         lon  \\\n",
       "0        @DoctorHenryCT Friends don't let friends get c... -122.295649   \n",
       "1        Finally hit Seattle’s Starbucks Reserve. It wa... -122.328289   \n",
       "2        Thanks for the memories @starbucks. It’s been ... -122.330602   \n",
       "3        I am so  close to the mcdonald's here I can su... -119.025163   \n",
       "4        Domino's bought $100,000 of local restaurants'... -122.630908   \n",
       "...                                                    ...         ...   \n",
       "1317795                     @aobrien7 @tacobell Always yes  -73.968542   \n",
       "1317796  I’m about to smoke eat Taco Bell and play Mine... -123.095999   \n",
       "1317797  Like our business? Review us on Google+ and ge...  -87.776914   \n",
       "1317798  Burritos for the arts - what could be better! ...  -88.014413   \n",
       "1317799  😋😋😋😋\\n\\nEggs: scrambies w/ spinach\\nSteak: ehh... -111.880240   \n",
       "\n",
       "               lat           local_time  \n",
       "0        37.838550  2022-01-20T23:24:24  \n",
       "1        47.614044  2022-01-20T23:18:01  \n",
       "2        47.614817  2022-01-20T22:33:15  \n",
       "3        35.346901  2022-01-20T22:32:22  \n",
       "4        45.536402  2022-01-20T22:31:31  \n",
       "...            ...                  ...  \n",
       "1317795  40.780709  2020-01-20T19:05:10  \n",
       "1317796  44.631133  2020-01-20T16:04:42  \n",
       "1317797  42.103623  2020-01-20T18:02:57  \n",
       "1317798  41.808188  2020-01-20T18:02:47  \n",
       "1317799  40.688518  2020-01-20T17:00:21  \n",
       "\n",
       "[1317800 rows x 4 columns]"
      ]
     },
     "execution_count": 44,
     "metadata": {},
     "output_type": "execute_result"
    }
   ],
   "source": [
    "df1"
   ]
  },
  {
   "cell_type": "code",
   "execution_count": 39,
   "id": "dce252c5",
   "metadata": {},
   "outputs": [],
   "source": [
    "#删除列，不设axis删除行\n",
    "df1=df1.drop([\"Unnamed: 0\",\"Unnamed: 0.1\",\"Unnamed: 0.1.1\",\"created_at\",\"lang\",\"possibly_sensitive\",\"withheld.scope\",\"withheld.copyright\",\"withheld.country_codes\",\"attachments.poll.duration_minutes\",\"attachments.poll.end_datetime\",\"attachments.poll.id\",\"attachments.poll.options\",\"attachments.poll.voting_status\",\"attachments.poll_ids\",\"author.pinned_tweet_id\",\"author.profile_image_url\",\"author.protected\",\"author.withheld.scope\",\"author.withheld.copyright\",\"author.withheld.country_codes\",\"geo.country\",\"geo.country_code\",\"geo.coordinates.coordinates\",\"author.verified\",\"geo.geo.type\",\"__twarc.retrieved_at\",\"__twarc.url\",\"__twarc.version\",\"Unnamed: 73\",\"lon_min\",\"geo.geo.bbox\",\"lat_min\",\"lon_max\",\"lon_max\",\"lon_dif\",\"lat_dif\"],axis=1)"
   ]
  },
  {
   "cell_type": "code",
   "execution_count": 43,
   "id": "4e9ab233",
   "metadata": {},
   "outputs": [],
   "source": [
    "df1=df[[\"text\",\"lon\",\"lat\",\"local_time\"]]"
   ]
  },
  {
   "cell_type": "code",
   "execution_count": 45,
   "id": "4ca06209",
   "metadata": {},
   "outputs": [],
   "source": [
    "df1.to_csv(r\"E:\\OneDrive - University of Georgia\\Project\\Data\\tweet_data_2_food\\4.2 LocaTime 1 csv\\fastFood_2019_2021_localTime_stateLevel_4_columns.csv\",encoding=\"utf_8_sig\",index=False)"
   ]
  },
  {
   "cell_type": "code",
   "execution_count": 35,
   "id": "9e1ad5d0",
   "metadata": {},
   "outputs": [],
   "source": [
    "df1.to_csv(r\"E:\\OneDrive - University of Georgia\\Project\\Data\\tweet_data_3_groccery\\4.2 LocalTime 1CSV - Copy\\grocery_2019_2021_localTime_stateLevel_4_columns.csv\",encoding=\"utf_8_sig\",index=False)"
   ]
  },
  {
   "cell_type": "code",
   "execution_count": null,
   "id": "ae415373",
   "metadata": {},
   "outputs": [],
   "source": [
    "#删除列,全无的\n",
    "df1=df[\"text\"]\n",
    "df1.dropna(axis=1,how='all') "
   ]
  },
  {
   "cell_type": "code",
   "execution_count": null,
   "id": "3740c772",
   "metadata": {},
   "outputs": [],
   "source": [
    "print(list(df))"
   ]
  },
  {
   "cell_type": "code",
   "execution_count": null,
   "id": "f05dbb7d",
   "metadata": {},
   "outputs": [],
   "source": [
    "df=df[df['geo.place_id'].notna()]"
   ]
  },
  {
   "cell_type": "code",
   "execution_count": null,
   "id": "1e1f90ee",
   "metadata": {},
   "outputs": [],
   "source": [
    "import csv\n",
    "pd.read_csv(r\"E:\\OneDrive - University of Georgia\\Project\\Data\\tweet_data_2_food\\1.2 3yearsCSVData_3csv\\original_fastFoodResturant_2021.csv\",usecols=['index','geo.geo.bbox']) \\\n",
    "  .to_csv(\"new_file.csv\", quoting=csv.QUOTE_NONE,sep='|', index=False)"
   ]
  },
  {
   "cell_type": "code",
   "execution_count": null,
   "id": "1331d014",
   "metadata": {},
   "outputs": [],
   "source": []
  },
  {
   "cell_type": "markdown",
   "id": "871761bf",
   "metadata": {},
   "source": [
    "## join 2 tables"
   ]
  },
  {
   "cell_type": "code",
   "execution_count": null,
   "id": "4ca08b47",
   "metadata": {},
   "outputs": [],
   "source": [
    "df1 = pd.read_csv('Obesity.csv')"
   ]
  },
  {
   "cell_type": "code",
   "execution_count": null,
   "id": "024ecd7f",
   "metadata": {},
   "outputs": [],
   "source": [
    "df2 = pd.read_csv(r'E:\\Project\\Data\\tweet_data\\4.2 Sentiment8States54 2Period\\sentimentscores_states_2019.csv')"
   ]
  },
  {
   "cell_type": "code",
   "execution_count": null,
   "id": "c22c6ddb",
   "metadata": {},
   "outputs": [],
   "source": [
    "merge_df = pd.merge(df1, df2, on='state',how='inner')"
   ]
  },
  {
   "cell_type": "code",
   "execution_count": null,
   "id": "f7f67bfa",
   "metadata": {},
   "outputs": [],
   "source": [
    "merge_df.to_csv(\"clean_local_time_2019-03_2020-02_bbox_county_level.csv\",encoding=\"utf_8_sig\",index=False)"
   ]
  },
  {
   "cell_type": "code",
   "execution_count": null,
   "id": "173a3e9b",
   "metadata": {},
   "outputs": [],
   "source": []
  }
 ],
 "metadata": {
  "kernelspec": {
   "display_name": "Python 3 (ipykernel)",
   "language": "python",
   "name": "python3"
  },
  "language_info": {
   "codemirror_mode": {
    "name": "ipython",
    "version": 3
   },
   "file_extension": ".py",
   "mimetype": "text/x-python",
   "name": "python",
   "nbconvert_exporter": "python",
   "pygments_lexer": "ipython3",
   "version": "3.9.7"
  }
 },
 "nbformat": 4,
 "nbformat_minor": 5
}
